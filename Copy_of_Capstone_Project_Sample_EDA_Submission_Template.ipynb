{
  "nbformat": 4,
  "nbformat_minor": 0,
  "metadata": {
    "colab": {
      "private_outputs": true,
      "provenance": [],
      "collapsed_sections": [
        "FJNUwmbgGyua",
        "yQaldy8SH6Dl",
        "8zGJKyg5p1ck",
        "ylSl6qgtp1ck",
        "E6MkPsBcp1cl",
        "gIfDvo9L0UH2"
      ],
      "cell_execution_strategy": "setup",
      "gpuType": "T4",
      "include_colab_link": true
    },
    "kernelspec": {
      "name": "python3",
      "display_name": "Python 3"
    },
    "language_info": {
      "name": "python"
    }
  },
  "cells": [
    {
      "cell_type": "markdown",
      "metadata": {
        "id": "view-in-github",
        "colab_type": "text"
      },
      "source": [
        "<a href=\"https://colab.research.google.com/github/ajays191/15-Days-Fore-casting-Sale-Under-/blob/main/Copy_of_Capstone_Project_Sample_EDA_Submission_Template.ipynb\" target=\"_parent\"><img src=\"https://colab.research.google.com/assets/colab-badge.svg\" alt=\"Open In Colab\"/></a>"
      ]
    },
    {
      "cell_type": "markdown",
      "source": [
        "# **Project Name**    -  Telecom Churn Data Analysis\n",
        "\n"
      ],
      "metadata": {
        "id": "vncDsAP0Gaoa"
      }
    },
    {
      "cell_type": "markdown",
      "source": [],
      "metadata": {
        "id": "GsuBHsdNGyFI"
      }
    },
    {
      "cell_type": "markdown",
      "source": [
        "##### **Project Type**    - EDA\n",
        "##### **Contribution**    - Individual/Team\n"
      ],
      "metadata": {
        "id": "beRrZCGUAJYm"
      }
    },
    {
      "cell_type": "markdown",
      "source": [
        "# **Project Summary -**"
      ],
      "metadata": {
        "id": "FJNUwmbgGyua"
      }
    },
    {
      "cell_type": "markdown",
      "source": [
        "The aim of this project is to analyze customer cancellation of subscriptions for Orang S.A., a multinational telecommunication corporation based in France. By exploring and analyzing data features, including activity data and customer cancellation labels, we aim to identify the factors responsible for customer churn and provide recommendations to ensure customer retention.\n",
        "\n",
        "Customer churn, or the cancellation of subscriptions, is a critical challenge for telecom companies like Orang S.A. Understanding the underlying reasons behind customer churn is crucial for developing effective strategies to retain customers and improve business performance. In this project, we will leverage the power of data analysis and explore the insights hidden within the dataset to uncover the factors influencing customer churn.\n",
        "\n",
        "Once we have processed and prepared the data, we will employ various analytical techniques, statistical analysis and data visualization, to uncover meaningful insights. Statistical analysis will help us identify significant differences between churned and retained customers, allowing us to pinpoint key factors associated with cancellations.\n",
        "\n",
        "Based on the findings from our analysis, we will develop a set of recommendations for Orang S.A. to improve customer retention. These recommendations may include personalized offers or incentives, targeted marketing campaigns, improvements in customer service, or enhancements to product features and pricing plans. The goal is to address the identified factors and provide proactive measures that will help Orang S.A. retain its customers and reduce churn rates.\n",
        "\n",
        "In conclusion, this project aims to analyze customer churn for Orang S.A., a multinational telecom corporation, by exploring and analyzing data features and customer cancellation labels. By leveraging data analysis techniques, machine learning, and social media mining, we seek to uncover the factors responsible for customer churn and provide actionable recommendations to improve customer retention. Through these efforts, Orang S.A. can enhance its customer satisfaction, loyalty, and ultimately, its overall business performance in the highly competitive telecommunications industry."
      ],
      "metadata": {
        "id": "F6v_1wHtG2nS"
      }
    },
    {
      "cell_type": "markdown",
      "source": [
        "# **GitHub Link -**"
      ],
      "metadata": {
        "id": "w6K7xa23Elo4"
      }
    },
    {
      "cell_type": "markdown",
      "source": [],
      "metadata": {
        "id": "h1o69JH3Eqqn"
      }
    },
    {
      "cell_type": "markdown",
      "source": [
        "# **Problem Statement**\n"
      ],
      "metadata": {
        "id": "yQaldy8SH6Dl"
      }
    },
    {
      "cell_type": "markdown",
      "source": [
        "Telecom Challenge: Customer Churn Analysis for Orang S.A.\n",
        "\n",
        "Situation: Orang S.A., a multinational telecommunication corporation, is grappling with customer churn, leading to revenue loss and hindering long-term growth.\n",
        "\n",
        "Data Columns: The available data includes columns such as state, account length, area code, international plan, voice mail plan, number of voice mail messages, total day minutes, total day calls, total day charge, total evening minutes, total evening calls, total evening charge, total night minutes, total night calls, total night charge, total international minutes, total international calls, total international charge, customer service calls, and churn status.\n",
        "\n",
        "Objective: The objective is to analyze the data and uncover the factors contributing to customer churn for Orang S.A.\n",
        "\n",
        "Insights: By examining the data columns, we aim to identify patterns, correlations, and trends that shed light on the reasons customers cancel their subscriptions.\n",
        "\n",
        "Key Factors: The state, account length, and area code can provide demographic insights affecting churn. The presence of international and voice mail plans, along with usage metrics and associated charges, may also impact customer retention.\n",
        "\n",
        "Usage Patterns: Analysis of total call minutes, charges, and call volumes during different times of the day (day, evening, night) will reveal customer engagement and satisfaction levels.\n",
        "\n",
        "International Connectivity: The usage and charges for international calls will highlight the importance of global connectivity in customer churn.\n",
        "\n",
        "Customer Service Impact: The number of customer service calls will indicate customer satisfaction levels and opportunities for improvement in Orang S.A.'s support system.\n",
        "\n",
        "Recommendations: The findings from the analysis will guide the development of recommendations to enhance customer satisfaction, refine marketing strategies, optimize service plans, and pricing strategies.\n",
        "\n",
        "Benefits: Implementing the recommendations will enable Orang S.A. to proactively address customer concerns, improve retention rates, mitigate revenue loss, and strengthen its market position.\n",
        "\n",
        "Stakeholders: The stakeholders include Orang S.A.'s management team, marketing department, customer service representatives, and customers who will benefit from improved services and offerings.\n",
        "\n",
        "Success Metrics: The project's success will be measured by a reduction in churn rates, increased customer retention, and positive feedback from customers regarding implemented strategies.\n",
        "\n",
        "Importance: Addressing customer churn is crucial for Orang S.A. to remain competitive, sustain growth, and enhance profitability in the telecom industry.\n",
        "\n",
        "In summary, the problem is to analyze customer churn for Orang S.A. by examining the available data columns. By uncovering the factors driving churn, the project aims to provide recommendations that will improve customer retention, mitigate revenue loss, and strengthen Orang S.A.'s market position in the highly competitive telecommunications industry."
      ],
      "metadata": {
        "id": "DpeJGUA3kjGy"
      }
    },
    {
      "cell_type": "markdown",
      "source": [
        "#### **Define Your Business Objective?**"
      ],
      "metadata": {
        "id": "PH-0ReGfmX4f"
      }
    },
    {
      "cell_type": "markdown",
      "source": [
        " Reduce Customer Churn: The primary objective is to decrease customer churn rates for Orang S.A. by identifying the key factors contributing to cancellations and implementing strategies to improve customer retention. The goal is to retain a higher percentage of customers, ensuring sustainable revenue growth and market stability.\n",
        "\n",
        "Enhance Customer Satisfaction: A key business objective is to enhance overall customer satisfaction by addressing the underlying reasons for customer churn. By understanding customer needs, preferences, and pain points, Orang S.A. can tailor its services, plans, and customer support to meet and exceed customer expectations, leading to increased loyalty and customer advocacy.\n",
        "\n",
        "Optimize Marketing Efforts: Another business objective is to optimize marketing efforts to attract and retain customers effectively. By analyzing the data, Orang S.A. can gain insights into customer segmentation, preferences, and behavior, enabling the development of targeted marketing campaigns and personalized offers. This objective aims to maximize the effectiveness of marketing investments and improve customer acquisition and retention.\n",
        "\n",
        "Improve Customer Service: Orang S.A. aims to improve its customer service operations and ensure high-quality support to customers. By analyzing customer service call data and feedback, the objective is to identify pain points, streamline processes, and enhance the overall customer service experience. Improved customer service can lead to higher satisfaction levels, reduced churn rates, and positive word-of-mouth referrals.\n",
        "\n",
        "Optimize Pricing and Service Plans: Understanding customer usage patterns and associated charges can help Orang S.A. optimize pricing and service plans. By analyzing data related to call duration, charges, and usage during different times of the day, Orang S.A. can identify opportunities to refine pricing structures and offer tailored plans that better align with customer needs and preferences.\n",
        "\n",
        "Strengthen Competitive Position: By effectively addressing customer churn and enhancing customer satisfaction, Orang S.A. can strengthen its competitive position in the telecommunications industry. Retaining more customers, attracting new customers, and earning positive customer feedback can differentiate Orang S.A. from competitors and establish the company as a preferred choice for telecom services.\n",
        "\n",
        "Drive Long-term Business Growth: Ultimately, the business objectives are aimed at driving long-term growth and profitability for Orang S.A. By reducing churn, improving customer satisfaction, optimizing marketing efforts, and delivering exceptional customer service, the company can achieve sustained revenue growth, increase market share, and enhance its overall business performance in the telecom industry."
      ],
      "metadata": {
        "id": "PhDvGCAqmjP1"
      }
    },
    {
      "cell_type": "markdown",
      "source": [
        "# **General Guidelines** : -  "
      ],
      "metadata": {
        "id": "mDgbUHAGgjLW"
      }
    },
    {
      "cell_type": "markdown",
      "source": [
        "1.   Well-structured, formatted, and commented code is required.\n",
        "2.   Exception Handling, Production Grade Code & Deployment Ready Code will be a plus. Those students will be awarded some additional credits.\n",
        "     \n",
        "     The additional credits will have advantages over other students during Star Student selection.\n",
        "       \n",
        "             [ Note: - Deployment Ready Code is defined as, the whole .ipynb notebook should be executable in one go\n",
        "                       without a single error logged. ]\n",
        "\n",
        "3.   Each and every logic should have proper comments.\n",
        "4. You may add as many number of charts you want. Make Sure for each and every chart the following format should be answered.\n",
        "        \n",
        "\n",
        "```\n",
        "# Chart visualization code\n",
        "```\n",
        "            \n",
        "\n",
        "*   Why did you pick the specific chart?\n",
        "*   What is/are the insight(s) found from the chart?\n",
        "* Will the gained insights help creating a positive business impact?\n",
        "Are there any insights that lead to negative growth? Justify with specific reason.\n",
        "\n",
        "5. You have to create at least 20 logical & meaningful charts having important insights.\n",
        "\n",
        "\n",
        "[ Hints : - Do the Vizualization in  a structured way while following \"UBM\" Rule.\n",
        "\n",
        "U - Univariate Analysis,\n",
        "\n",
        "B - Bivariate Analysis (Numerical - Categorical, Numerical - Numerical, Categorical - Categorical)\n",
        "\n",
        "M - Multivariate Analysis\n",
        " ]\n",
        "\n",
        "\n",
        "\n"
      ],
      "metadata": {
        "id": "ZrxVaUj-hHfC"
      }
    },
    {
      "cell_type": "markdown",
      "source": [
        "# ***Let's Begin !***"
      ],
      "metadata": {
        "id": "O_i_v8NEhb9l"
      }
    },
    {
      "cell_type": "code",
      "source": [
        "from google.colab import drive\n",
        "drive.mount('/content/drive')"
      ],
      "metadata": {
        "id": "S-Sc0RMWJEQB"
      },
      "execution_count": null,
      "outputs": []
    },
    {
      "cell_type": "markdown",
      "source": [
        "## ***1. Know Your Data***"
      ],
      "metadata": {
        "id": "HhfV-JJviCcP"
      }
    },
    {
      "cell_type": "markdown",
      "source": [
        "### Import Libraries"
      ],
      "metadata": {
        "id": "Y3lxredqlCYt"
      }
    },
    {
      "cell_type": "code",
      "source": [
        "# Import Libraries\n",
        "import pandas as pd\n",
        "import numpy as np\n",
        "import matplotlib.pyplot as plt\n",
        "import seaborn as sns"
      ],
      "metadata": {
        "id": "M8Vqi-pPk-HR"
      },
      "execution_count": null,
      "outputs": []
    },
    {
      "cell_type": "markdown",
      "source": [
        "### Dataset Loading"
      ],
      "metadata": {
        "id": "3RnN4peoiCZX"
      }
    },
    {
      "cell_type": "code",
      "source": [
        "# Load Dataset\n",
        "df = pd.read_csv(r'/content/drive/MyDrive/Telecom Churn.csv', encoding = 'unicode_escape')"
      ],
      "metadata": {
        "id": "4CkvbW_SlZ_R"
      },
      "execution_count": null,
      "outputs": []
    },
    {
      "cell_type": "markdown",
      "source": [
        "### Dataset First View"
      ],
      "metadata": {
        "id": "x71ZqKXriCWQ"
      }
    },
    {
      "cell_type": "code",
      "source": [
        "# Dataset First Look\n",
        "df.head()"
      ],
      "metadata": {
        "id": "LWNFOSvLl09H"
      },
      "execution_count": null,
      "outputs": []
    },
    {
      "cell_type": "markdown",
      "source": [
        "### Dataset Rows & Columns count"
      ],
      "metadata": {
        "id": "7hBIi_osiCS2"
      }
    },
    {
      "cell_type": "code",
      "source": [
        "# Dataset Rows & Columns count\n",
        "df.shape"
      ],
      "metadata": {
        "id": "Kllu7SJgmLij"
      },
      "execution_count": null,
      "outputs": []
    },
    {
      "cell_type": "markdown",
      "source": [
        "### Dataset Information"
      ],
      "metadata": {
        "id": "JlHwYmJAmNHm"
      }
    },
    {
      "cell_type": "code",
      "source": [
        "# Dataset Info\n",
        "# Get an overview of the dataset\n",
        "df.info()"
      ],
      "metadata": {
        "id": "e9hRXRi6meOf"
      },
      "execution_count": null,
      "outputs": []
    },
    {
      "cell_type": "markdown",
      "source": [
        "#### Duplicate Values"
      ],
      "metadata": {
        "id": "35m5QtbWiB9F"
      }
    },
    {
      "cell_type": "code",
      "source": [
        "# Dataset Duplicate Value Count\n",
        "duplicate_count = df.duplicated().sum()\n",
        "\n",
        "# Print the duplicate count\n",
        "print(\"Duplicate Values Count:\", duplicate_count)"
      ],
      "metadata": {
        "id": "1sLdpKYkmox0"
      },
      "execution_count": null,
      "outputs": []
    },
    {
      "cell_type": "markdown",
      "source": [
        "#### Missing Values/Null Values"
      ],
      "metadata": {
        "id": "PoPl-ycgm1ru"
      }
    },
    {
      "cell_type": "code",
      "source": [
        "# Missing Values/Null Values Count\n",
        "# Count the missing values in each column\n",
        "missing_values_count = df.isnull().sum()"
      ],
      "metadata": {
        "id": "GgHWkxvamxVg"
      },
      "execution_count": null,
      "outputs": []
    },
    {
      "cell_type": "code",
      "source": [
        "# Visualizing the missing values\n",
        "# Visualize the missing values\n",
        "plt.figure(figsize=(6, 6))\n",
        "sns.heatmap(df.isnull(), cmap=\"viridis\", cbar=False, yticklabels=False)\n",
        "plt.title(\"Missing Values Heatmap\")\n",
        "plt.show()\n",
        "\n",
        "# Print the missing values count\n",
        "print(\"Missing Values Count:\")\n",
        "print(missing_values_count)"
      ],
      "metadata": {
        "id": "3q5wnI3om9sJ"
      },
      "execution_count": null,
      "outputs": []
    },
    {
      "cell_type": "markdown",
      "source": [
        "### What did you know about your dataset?"
      ],
      "metadata": {
        "id": "H0kj-8xxnORC"
      }
    },
    {
      "cell_type": "markdown",
      "source": [
        "\n",
        "* Missing Values: The dataset contains zero missing values, indicating that all columns are complete.\n",
        "\n",
        "* Duplicate Values: There are no duplicate values present in the dataset.\n",
        "\n",
        "* Rows and Columns: The dataset consists of 3333 rows and 20 columns, providing a substantial amount of data for analysis.\n",
        "\n",
        "* Data Types: The dataset contains columns with the following data types: bool(1) float64(8) int64(8) object(3) Unique Values in Columns:\n",
        "\n",
        "* State: The \"State\" column has 51 unique values representing different states in the dataset.\n",
        "\n",
        "* International plan: The \"International plan\" column has two unique values, \"No\" and \"Yes\", indicating whether a customer has an international calling plan.\n",
        "\n",
        "* Voice mail plan: The \"Voice mail plan\" column has two unique values, \"No\" and \"Yes\", indicating whether a customer has a voice mail plan.\n",
        "\n",
        "* Churn: The \"Churn\" column has two unique values, False and True, representing whether a customer has canceled their subscription."
      ],
      "metadata": {
        "id": "gfoNAAC-nUe_"
      }
    },
    {
      "cell_type": "markdown",
      "source": [
        "## ***2. Understanding Your Variables***"
      ],
      "metadata": {
        "id": "nA9Y7ga8ng1Z"
      }
    },
    {
      "cell_type": "code",
      "source": [
        "# Dataset Columns\n",
        "df.columns"
      ],
      "metadata": {
        "id": "j7xfkqrt5Ag5"
      },
      "execution_count": null,
      "outputs": []
    },
    {
      "cell_type": "code",
      "source": [
        "# Dataset Describe\n",
        "df.describe()"
      ],
      "metadata": {
        "id": "DnOaZdaE5Q5t"
      },
      "execution_count": null,
      "outputs": []
    },
    {
      "cell_type": "markdown",
      "source": [
        "### Variables Description"
      ],
      "metadata": {
        "id": "PBTbrJXOngz2"
      }
    },
    {
      "cell_type": "markdown",
      "source": [
        "# Variables Description\n",
        "* State: Categorical variable representing the state where the customer is located.\n",
        "* Account length: Numeric variable representing the duration of the *customer's account with Orang S.A. (in months).\n",
        "* International plan: Categorical variable indicating whether the customer has an international calling plan (Yes/No).\n",
        "*Voice mail plan: Categorical variable indicating whether the customer has a voice mail plan (Yes/No).\n",
        "*Total day minutes: Numeric variable representing the total number of minutes the customer used during daytime calls.\n",
        "*Total eve minutes: Numeric variable representing the total number of minutes the customer used during evening calls.\n",
        "*Total night minutes: Numeric variable representing the total number of minutes the customer used during nighttime calls.\n",
        "*Churn: Binary variable indicating whether the customer has canceled their subscription (False/True).\n",
        "\n",
        "# Summary Statistics:\n",
        "\n",
        "* Account length: The average account length is 101 months, with a standard deviation of 39.82 months. The minimum account length is 1 month, and the maximum is 243 months.\n",
        "\n",
        "* Total day minutes: The average total day minutes is 179.78 minutes, with a standard deviation of 54.47 minutes. The minimum is 0 minutes, and the maximum is 350.8 minutes.\n",
        "\n",
        "* Total eve minutes: The average total evening minutes is 200.98 minutes, with a standard deviation of 50.71 minutes. The minimum is 0 minutes, and the maximum is 363.7 minutes.\n",
        "\n",
        "* Total night minutes: The average total night minutes is 200.87 minutes, with a standard deviation of 50.57 minutes. The minimum is 23.2 minutes, and the maximum is 395 minutes.\n",
        "\n",
        "* Other variables: The remaining variables (State, International plan, Voice mail plan, and Churn) are categorical variables and do not have summary statistics in the traditional sense. They provide information on the states, plan subscriptions, and churn status of the customers."
      ],
      "metadata": {
        "id": "aJV4KIxSnxay"
      }
    },
    {
      "cell_type": "markdown",
      "source": [
        "### Check Unique Values for each variable."
      ],
      "metadata": {
        "id": "u3PMJOP6ngxN"
      }
    },
    {
      "cell_type": "code",
      "source": [
        "# Check Unique Values for each variable.\n",
        "# Unique values in categorical columns\n",
        "for column in [\"State\", \"International plan\", \"Voice mail plan\", \"Churn\"]:\n",
        "    unique_values = df[column].unique()\n",
        "    print(f\"Unique values in {column}:\")\n",
        "    print(unique_values)"
      ],
      "metadata": {
        "id": "zms12Yq5n-jE"
      },
      "execution_count": null,
      "outputs": []
    },
    {
      "cell_type": "code",
      "source": [
        "import pandas as pd\n",
        "\n",
        "def check_unique_values(df):\n",
        "    for column in df.columns:\n",
        "        unique_values = df[column].unique()\n",
        "        print(f\"Unique values for {column}:\")\n",
        "        print(unique_values)\n",
        "        print()\n",
        "\n"
      ],
      "metadata": {
        "id": "yOeZUUHRMLOr"
      },
      "execution_count": null,
      "outputs": []
    },
    {
      "cell_type": "markdown",
      "source": [
        "## 3. ***Data Wrangling***"
      ],
      "metadata": {
        "id": "dauF4eBmngu3"
      }
    },
    {
      "cell_type": "markdown",
      "source": [
        "### Data Wrangling Code"
      ],
      "metadata": {
        "id": "bKJF3rekwFvQ"
      }
    },
    {
      "cell_type": "code",
      "source": [
        "def assign_states_to_regions(State):\n",
        "    # Define the regions and their corresponding states\n",
        "    regions = {\n",
        "        'Northeast': ['CT', 'ME', 'MA', 'NH', 'NJ', 'NY', 'PA', 'RI', 'VT'],\n",
        "        'Midwest': ['IL', 'IN', 'IA', 'KS', 'MI', 'MN', 'MO', 'NE', 'ND', 'OH', 'SD', 'WI'],\n",
        "        'South': ['AL', 'AR', 'DE', 'FL', 'GA', 'KY', 'LA', 'MD', 'MS', 'NC', 'OK', 'SC', 'TN', 'TX', 'VA', 'WV'],\n",
        "        'West': ['AK', 'AZ', 'CA', 'CO', 'HI', 'ID', 'MT', 'NV', 'NM', 'OR', 'UT', 'WA', 'WY'],\n",
        "        'Mid-Atlantic': ['DC'],\n",
        "        'Other': []\n",
        "    }\n",
        "\n",
        "    for region, state_list in regions.items():\n",
        "        if State in state_list:\n",
        "            return region\n",
        "\n",
        "    return 'Other'\n",
        "# Define the DataFrame with the existing columns\n",
        "data = {\n",
        "    'State': ['CT', 'ME', 'MA', 'NH', 'NJ', 'NY', 'PA', 'RI', 'VT', 'IL', 'IN', 'IA', 'KS', 'MI', 'MN', 'MO', 'NE', 'ND', 'OH', 'SD', 'WI', 'AL', 'AR', 'DE', 'FL', 'GA', 'KY', 'LA', 'MD', 'MS', 'NC', 'OK', 'SC', 'TN', 'TX', 'VA', 'WV', 'AK', 'AZ', 'CA', 'CO', 'HI', 'ID', 'MT', 'NV', 'NM', 'OR', 'UT', 'WA', 'WY', 'DC']\n",
        "}\n",
        "\n",
        "# Create a new column 'Region' using the assign_states_to_regions function\n",
        "df['Region'] = df['State'].apply(assign_states_to_regions)"
      ],
      "metadata": {
        "id": "I09G-JYMNbpS"
      },
      "execution_count": null,
      "outputs": []
    },
    {
      "cell_type": "code",
      "source": [
        "# Replace area code with the corresponding City name\n",
        "area_code_mapping = {\n",
        "    415: \"San Francisco, California\",\n",
        "    408: \"San Jose, California\",\n",
        "    510: \"Oakland, California\"\n",
        "}\n",
        "\n",
        "# Create a new dataframe with the additional \"City\" column\n",
        "df['City'] = df['Area code'].map(area_code_mapping)\n",
        "\n"
      ],
      "metadata": {
        "id": "xgRSROkscyD1"
      },
      "execution_count": null,
      "outputs": []
    },
    {
      "cell_type": "markdown",
      "source": [],
      "metadata": {
        "id": "E-xJrho_cwbe"
      }
    },
    {
      "cell_type": "code",
      "source": [
        "# Create a new feature: Total call duration\n",
        "df['Total_Call_Minutes'] = df['Total day minutes'] + df['Total eve minutes'] + df['Total night minutes']\n",
        "df['Total_Call_Minutes']"
      ],
      "metadata": {
        "id": "wk-9a2fpoLcV"
      },
      "execution_count": null,
      "outputs": []
    },
    {
      "cell_type": "code",
      "source": [
        "# Calculate the total number of churned customers\n",
        "churn_counts = df.groupby('Churn').size()\n",
        "print(\"Total number of churned customers:\", churn_counts)"
      ],
      "metadata": {
        "id": "YT4ISvOcj54I"
      },
      "execution_count": null,
      "outputs": []
    },
    {
      "cell_type": "code",
      "source": [
        "# Most of the churn By City and Region\n",
        "churn_counts = df.groupby(['Region', 'Churn']).size()\n",
        "print(churn_counts)\n",
        "churn_counts = df.groupby(['City', 'Churn']).size()\n",
        "print(churn_counts)\n"
      ],
      "metadata": {
        "id": "70-yafyFkcqe"
      },
      "execution_count": null,
      "outputs": []
    },
    {
      "cell_type": "code",
      "source": [
        "# Calculate average call duration and charge by international plan\n",
        "average_duration_charge = df.groupby('International plan')['Total_Call_Minutes', 'Total day charge'].mean()\n",
        "average_duration_charge"
      ],
      "metadata": {
        "id": "ftuSJUnGMFt7"
      },
      "execution_count": null,
      "outputs": []
    },
    {
      "cell_type": "code",
      "source": [
        "# Sort the dataset by 'Total_Day_Minutes' in descending order\n",
        "df_sorted = df.sort_values(by='Total day minutes', ascending=False)"
      ],
      "metadata": {
        "id": "Tx88lVd_MF0M"
      },
      "execution_count": null,
      "outputs": []
    },
    {
      "cell_type": "code",
      "source": [
        "# the average number of voice mail messages in the 'Number vmail messages\n",
        "average_vmail_messages = df['Number vmail messages'].mean()\n",
        "print(\"Average number of voice mail messages:\", average_vmail_messages)\n",
        "\n",
        "# Average charge for the 'Total day' period in the 'Total day charge'\n",
        "average_day_charge = df['Total day charge'].mean()\n",
        "print(\"Average charge for 'Total day' period:\", average_day_charge)\n",
        "\n",
        "\n",
        "# the average charge for the 'Total eve' period in the 'Total eve charge'\n",
        "average_eve_charge = df['Total eve charge'].mean()\n",
        "print(\"Average charge for 'Total eve' period:\", average_eve_charge)\n",
        "\n",
        "\n",
        "# the average charge for the 'Total night' period in the 'Total night charge'\n",
        "average_night_charge = df['Total night charge'].mean()\n",
        "print(\"Average charge for 'Total night' period:\", average_night_charge)"
      ],
      "metadata": {
        "id": "XoXdrwJZOwNm"
      },
      "execution_count": null,
      "outputs": []
    },
    {
      "cell_type": "code",
      "source": [
        "# Maximum/Miniumum value in the 'Total day minutes\n",
        "max_day_minutes = df['Total day minutes'].max()\n",
        "min_day_minutes = df['Total day minutes'].min()\n",
        "\n",
        "print(\"Maximum value in 'Total day minutes' column:\", max_day_minutes)\n",
        "print(\"Minimum value in 'Total day minutes' column:\", min_day_minutes)\n",
        "\n",
        "# Maximum/Minimum value in the 'Total day calls'\n",
        "max_day_calls = df['Total day calls'].max()\n",
        "min_day_calls = df['Total day calls'].min()\n",
        "print(\"Maximum value in 'Total day calls' column:\", max_day_calls)\n",
        "print(\"Minimum value in 'Total day calls' column:\", min_day_calls)\n",
        "\n",
        "# the Maximum/Minimum value in the 'Total eve minutes'\n",
        "max_eve_minutes = df['Total eve minutes'].max()\n",
        "print(\"Maximum value in 'Total eve minutes':\", max_eve_minutes)\n",
        "\n",
        "# the Maximum/Minimum value in the 'Total eve calls'\n",
        "max_eve_calls = df['Total eve calls'].max()\n",
        "print(\"Maximum value in 'Total eve calls':\", max_eve_calls)\n",
        "min_eve_calls = df['Total eve calls'].min()\n",
        "print(\"Minimum value in 'Total eve calls':\", min_eve_calls)\n",
        "\n",
        "# the Maximum/Minimum value in the 'Total night minutes'\n",
        "max_night_minutes = df['Total night minutes'].max()\n",
        "print(\"Maximum value in 'Total night minutes':\", max_night_minutes)\n",
        "min_night_minutes = df['Total night minutes'].min()\n",
        "print(\"Minimum value in 'Total night minutes':\", min_night_minutes)\n",
        "\n",
        "# the Maximum/Minimum value in the 'Total night calls'\n",
        "max_night_calls = df['Total night calls'].max()\n",
        "print(\"Maximum value in 'Total night calls':\", max_night_calls)\n",
        "min_night_calls = df['Total night calls'].min()\n",
        "print(\"Minimum value in 'Total night calls':\", min_night_calls)\n"
      ],
      "metadata": {
        "id": "yyknQjz3-4fi"
      },
      "execution_count": null,
      "outputs": []
    },
    {
      "cell_type": "code",
      "source": [
        "# Call duration by period\n",
        "df['Call duration day'] = df['Total day minutes'] / df['Total day calls']\n",
        "df['Call duration eve'] = df['Total eve minutes'] / df['Total eve calls']\n",
        "df['Call duration night'] = df['Total night minutes'] / df['Total night calls']\n",
        "df['Call duration day']\n",
        "\n",
        "# Call charges by period\n",
        "df['Call charge day'] = df['Total day charge'] / df['Total day calls']\n",
        "df['Call charge eve'] = df['Total eve charge'] / df['Total eve calls']\n",
        "df['Call charge night'] = df['Total night charge'] / df['Total night calls']\n",
        "\n",
        "# Percentage of international calls\n",
        "df['Intl calls percentage'] = (df['Total intl calls'] / df['Total day calls']) * 100\n",
        "\n",
        "# Churn rate by region\n",
        "churn_rate_by_region = df.groupby('Region')['Churn'].mean()\n",
        "df = df.merge(churn_rate_by_region, on='Region', how='left')\n",
        "df.rename(columns={'Churn_y': 'Churn rate by region'}, inplace=True)\n",
        "\n",
        "# Average call duration per customer\n",
        "df['Average call duration'] = (df['Total day minutes'] + df['Total eve minutes'] + df['Total night minutes']) / df['Account length']\n",
        "\n",
        "# Average number of customer service calls per customer\n",
        "df['Average customer service calls'] = df['Customer service calls'] / df['Account length']\n"
      ],
      "metadata": {
        "id": "TJniwKav-4hv"
      },
      "execution_count": null,
      "outputs": []
    },
    {
      "cell_type": "markdown",
      "source": [
        "### What all manipulations have you done and insights you found?"
      ],
      "metadata": {
        "id": "MSa1f5Uengrz"
      }
    },
    {
      "cell_type": "markdown",
      "source": [
        "\n",
        "* Created a new column for region: This allows for analyzing churn rates and other metrics based on different regions, providing insights into regional performance and potential variations in customer behavior.\n",
        "\n",
        "* Created a city column using area codes: By mapping area codes to specific cities, it becomes possible to analyze churn rates and other metrics at a more granular level, helping identify potential city-specific patterns.\n",
        "\n",
        "* Created a column for total call minutes: This metric provides an overview of customer call durations, highlighting variations in phone usage among customers.\n",
        "\n",
        "* Calculated churn count: By counting the number of churned and retained customers, we gained insights into the overall churn rate and customer retention performance.\n",
        "\n",
        "* Analyzed churn count by city and region: This analysis helps identify regions or cities with higher churn rates, providing insights into potential factors contributing to customer attrition in specific areas.\n",
        "\n",
        "* Created a column for average duration charge: Grouping data by \"International plan\" allowed for calculating the average call duration and charges, providing insights into the impact of international plans on call behavior and associated charges.\n",
        "\n",
        "* Created columns for average voice mail messages, average day charge, average eve charge, and average night charge: These metrics offer insights into average voice mail usage and charges during different periods of the day, aiding in understanding customer communication preferences.\n",
        "\n",
        "* Determined the maximum and minimum values for various call-related metrics: These statistics, such as maximum and minimum values in call minutes and call counts, provide an understanding of the range and distribution of call behavior among customers.\n",
        "\n",
        "* Conducted analysis on call duration by period, call charges by period, and percentage of international calls: These analyses provide insights into customer calling habits, associated charges, and the extent of international call usage.\n",
        "\n",
        "* Explored churn rate by region: Analyzing churn rates across different regions allows for identifying regions with higher churn rates and potential regional-specific factors impacting customer retention.\n",
        "\n",
        "* Calculated average call duration per customer: This metric provides insights into average call durations, helping understand customer engagement and potential patterns in call behavior.\n",
        "\n",
        "* Determined the average number of customer service calls per customer: This analysis sheds light on customer satisfaction and identifies customers who may require additional support or intervention.\n",
        "\n",
        "Overall, these manipulations and analyses offer insights into customer behavior, regional variations, call usage patterns, and factors influencing churn rates. These insights can help the telecom company make informed decisions, improve customer retention strategies, and enhance overall service quality."
      ],
      "metadata": {
        "id": "LbyXE7I1olp8"
      }
    },
    {
      "cell_type": "markdown",
      "source": [
        "## ***4. Data Vizualization, Storytelling & Experimenting with charts : Understand the relationships between variables***"
      ],
      "metadata": {
        "id": "GF8Ens_Soomf"
      }
    },
    {
      "cell_type": "markdown",
      "source": [
        "#### Chart - 1"
      ],
      "metadata": {
        "id": "0wOQAZs5pc--"
      }
    },
    {
      "cell_type": "code",
      "source": [
        "# Chart - 1 visualization code\n",
        "\n",
        "# Find the maximum churn rate for each region\n",
        "max_values = df.groupby('Region')['Churn_x'].mean()\n",
        "\n",
        "# Display the maximum values\n",
        "print(max_values)\n",
        "\n",
        "\n",
        "region_churn = df.groupby('Region')['Churn_x'].mean().sort_values(ascending=False)\n",
        "\n",
        "# Define custom colors for the bars\n",
        "bar_colors = ['red', 'orange', 'yellow', 'green', 'blue']\n",
        "\n",
        "# Create the bar chart\n",
        "plt.figure(figsize=(10, 6))\n",
        "plt.bar(region_churn.index, region_churn.values, color=bar_colors)\n",
        "\n",
        "# Add labels and formatting\n",
        "plt.xlabel('Region')\n",
        "plt.ylabel('Churn rate')\n",
        "plt.title('Churn rate by Region')\n",
        "\n",
        "# Add data labels\n",
        "for i, rate in enumerate(region_churn):\n",
        "    plt.text(i, rate, f\"{rate:.2f}\", ha='center', va='bottom', color='black')\n",
        "\n",
        "plt.show()\n"
      ],
      "metadata": {
        "id": "7v_ESjsspbW7"
      },
      "execution_count": null,
      "outputs": []
    },
    {
      "cell_type": "markdown",
      "source": [
        "##### 1. Why did you pick the specific chart?"
      ],
      "metadata": {
        "id": "K5QZ13OEpz2H"
      }
    },
    {
      "cell_type": "markdown",
      "source": [
        "1. Clear Comparison: A bar chart allows for a clear and easy comparison between different regions.\n",
        "2. Categorical Data: Bar charts are particularly effective for visualizing categorical data, such as regions in this case\n",
        "3. Easy Interpretation: Bar charts are widely recognized and easy to interpret, making them accessible to a wide range of audiences."
      ],
      "metadata": {
        "id": "XESiWehPqBRc"
      }
    },
    {
      "cell_type": "markdown",
      "source": [
        "##### 2. What is/are the insight(s) found from the chart?"
      ],
      "metadata": {
        "id": "lQ7QKXXCp7Bj"
      }
    },
    {
      "cell_type": "markdown",
      "source": [
        "* Churn Rates Vary by Region: The data reveals that different regions have varying maximum churn rates. This indicates that customer attrition is influenced by regional factors and highlights the need for region-specific retention strategies.\n",
        "\n",
        "* Northeast Region Has the Highest Churn Rate: Among the listed regions, the Northeast region exhibits the highest maximum churn rate at 16.92%. This suggests that there may be underlying factors contributing to higher customer churn in this area compared to others.\n",
        "\n",
        "* Midwest and South Regions Have Relatively High Churn Rates: The Midwest and South regions also display relatively high maximum churn rates at 12.97% and 15.07% respectively. These regions should be closely examined to identify potential reasons for higher customer attrition.\n",
        "\n",
        "* Mid-Atlantic Region Has a Comparatively Lower Churn Rate: The Mid-Atlantic region demonstrates a lower maximum churn rate of 9.26% compared to the other regions. This implies that customer retention strategies in this region may be relatively more effective or that there are different factors influencing customer loyalty.\n",
        "\n",
        "* West Region Falls in the Mid-Range for Churn Rates: The West region shows a maximum churn rate of 13.84%. While not the highest, it is still relatively higher than the Mid-Atlantic region but lower than the Northeast, Midwest, and South regions.\n",
        "\n",
        "* Regional Analysis is Crucial: The variations in maximum churn rates across regions emphasize the importance of conducting regional analysis. By focusing on specific regions, telecom companies can identify regional-specific challenges, customer preferences, or market dynamics that impact churn rates and tailor retention efforts accordingly.\n",
        "\n",
        "* Targeted Retention Strategies: Understanding the regional differences in churn rates allows for the implementation of targeted retention strategies. For instance, resources can be allocated to the Northeast and South regions, which exhibit higher churn rates, to improve customer satisfaction, address pain points, and enhance loyalty.\n",
        "\n",
        "* Opportunity for Improvement: The relatively lower churn rate in the Mid-Atlantic region indicates that strategies or factors contributing to customer retention in this region could be studied and potentially applied to other regions with higher churn rates to improve overall customer retention.\n",
        "\n",
        "These insights provide an understanding of the variations in churn rates across different regions, highlighting the need for region-specific analysis and targeted retention efforts. By focusing on the regions with higher churn rates, telecom companies can develop strategies to mitigate customer attrition and improve overall customer loyalty."
      ],
      "metadata": {
        "id": "C_j1G7yiqdRP"
      }
    },
    {
      "cell_type": "markdown",
      "source": [
        "##### 3. Will the gained insights help creating a positive business impact?\n",
        "Are there any insights that lead to negative growth? Justify with specific reason.\n"
      ],
      "metadata": {
        "id": "448CDAPjqfQr"
      }
    },
    {
      "cell_type": "markdown",
      "source": [
        "\n",
        "** Positive business impact **\n",
        "\n",
        "* Targeted Retention Strategies: By understanding the variations in churn rates across different regions, telecom companies can develop targeted retention strategies. By allocating resources and focusing efforts on regions with higher churn rates, companies can improve customer satisfaction, address specific pain points, and enhance loyalty. This targeted approach is likely to have a positive impact on customer retention and business growth.\n",
        "\n",
        "* Regional Analysis: Conducting regional analysis helps identify regional-specific challenges, customer preferences, and market dynamics. By tailoring marketing campaigns, customer service initiatives, and product offerings to specific regions, telecom companies can better meet customer needs, enhance customer satisfaction, and drive positive business growth."
      ],
      "metadata": {
        "id": "3cspy4FjqxJW"
      }
    },
    {
      "cell_type": "markdown",
      "source": [
        "#### Chart - 2"
      ],
      "metadata": {
        "id": "KSlN3yHqYklG"
      }
    },
    {
      "cell_type": "code",
      "source": [
        "# Chart - 2 visualization code\n",
        "# Find the maximum churn rate for each region\n",
        "max_values = df.groupby('City')['Customer service calls'].mean()\n",
        "\n",
        "# Display the maximum values\n",
        "print(max_values)\n",
        "\n",
        "\n",
        "city_service_calls = df.groupby('City')['Customer service calls'].mean().sort_values(ascending=False)\n",
        "\n",
        "# Define custom colors for the bars\n",
        "bar_colors = ['red', 'orange', 'yellow', 'green', 'blue']\n",
        "\n",
        "# Create the bar chart\n",
        "plt.figure(figsize=(10, 6))\n",
        "plt.bar(city_service_calls.index, city_service_calls.values, color=bar_colors)\n",
        "\n",
        "# Add labels and formatting\n",
        "plt.xlabel('City')\n",
        "plt.ylabel('Average customer service calls')\n",
        "plt.title('Average customer service calls by City')\n",
        "plt.show()"
      ],
      "metadata": {
        "id": "R4YgtaqtYklH"
      },
      "execution_count": null,
      "outputs": []
    },
    {
      "cell_type": "code",
      "source": [
        "# Chart - 2 visualization code\n",
        "# Find the maximum churn rate for each region\n",
        "max_values = df.groupby('Region')['Customer service calls'].mean()\n",
        "\n",
        "# Display the maximum values\n",
        "print(max_values)\n",
        "\n",
        "\n",
        "Region_service_calls = df.groupby('Region')['Customer service calls'].mean().sort_values(ascending=False)\n",
        "\n",
        "# Define custom colors for the bars\n",
        "bar_colors = ['red', 'orange', 'yellow', 'green', 'blue']\n",
        "\n",
        "# Create the bar chart\n",
        "plt.figure(figsize=(10, 6))\n",
        "plt.bar(Region_service_calls.index, Region_service_calls.values, color=bar_colors)\n",
        "\n",
        "# Add labels and formatting\n",
        "plt.xlabel('Region')\n",
        "plt.ylabel('Average customer service calls')\n",
        "plt.title('Average customer service calls by Region')\n",
        "\n",
        "plt.show()"
      ],
      "metadata": {
        "id": "xI7YI2aXXyID"
      },
      "execution_count": null,
      "outputs": []
    },
    {
      "cell_type": "markdown",
      "source": [
        "##### 1. Why did you pick the specific chart?"
      ],
      "metadata": {
        "id": "t6dVpIINYklI"
      }
    },
    {
      "cell_type": "markdown",
      "source": [
        "1. Clear Comparison: A bar chart allows for a clear and easy comparison between different regions.\n",
        "2. Categorical Data: Bar charts are particularly effective for visualizing categorical data, such as regions in this case\n",
        "3. Easy Interpretation: Bar charts are widely recognized and easy to interpret, making them accessible to a wide range of audiences."
      ],
      "metadata": {
        "id": "5aaW0BYyYklI"
      }
    },
    {
      "cell_type": "markdown",
      "source": [
        "##### 2. What is/are the insight(s) found from the chart?"
      ],
      "metadata": {
        "id": "ijmpgYnKYklI"
      }
    },
    {
      "cell_type": "markdown",
      "source": [
        "Answer Here"
      ],
      "metadata": {
        "id": "PSx9atu2YklI"
      }
    },
    {
      "cell_type": "markdown",
      "source": [
        "##### 3. Will the gained insights help creating a positive business impact?\n",
        "Are there any insights that lead to negative growth? Justify with specific reason."
      ],
      "metadata": {
        "id": "-JiQyfWJYklI"
      }
    },
    {
      "cell_type": "markdown",
      "source": [
        "**Positve Bussiness growth**\n",
        "\n",
        "* The insights on churn rates by city and region enable telecom companies to allocate resources and develop targeted retention strategies, leading to improved customer satisfaction, increased loyalty, and positive business growth.\n",
        "\n",
        "* Understanding churn rates helps telecom companies adopt a customer-centric approach, tailoring services and offers to address specific challenges in different cities and regions, ultimately enhancing the customer experience and driving positive business impact.\n",
        "\n",
        "\n",
        "**Negative Bussiness Growth**\n",
        "* The insights on churn rates by city and region allow telecom companies to identify areas with higher churn rates and implement targeted retention strategies, mitigating the risk of negative growth.\n",
        "\n",
        "* By understanding the specific factors contributing to churn in different cities or regions, telecom companies can adapt their offerings and improve customer satisfaction, fostering positive business growth.\n",
        "\n",
        "* Churn rate insights provide valuable information for competitive analysis, enabling companies to differentiate their services, regain market share, and avoid negative growth.\n",
        "\n",
        "While churn rates can indicate potential challenges, telecom companies can mitigate negative growth by leveraging these insights to develop effective retention strategies, invest in customer satisfaction, and proactively address market dynamics. By taking proactive measures, telecom companies can work towards maintaining positive growth and mitigating any negative impact on their business."
      ],
      "metadata": {
        "id": "BcBbebzrYklV"
      }
    },
    {
      "cell_type": "markdown",
      "source": [
        "#### Chart - 3"
      ],
      "metadata": {
        "id": "EM7whBJCYoAo"
      }
    },
    {
      "cell_type": "code",
      "source": [
        "# Group the data by region and calculate the sum of charges\n",
        "charges_by_region = df.groupby('Region')['Total day charge', 'Total night charge', 'Total intl charge', 'Total eve charge'].sum()\n",
        "\n",
        "# Reset the index to have 'Region'\n",
        "charges_by_region = charges_by_region.reset_index()\n",
        "\n",
        "# Melt the DataFrame to convert the columns into a categorical variable\n",
        "charges_by_region = charges_by_region.melt(id_vars='Region', var_name='Charge Type', value_name='Total Charge')\n",
        "\n",
        "# Create a grouped bar chart\n",
        "plt.figure(figsize=(12, 6))\n",
        "sns.barplot(x='Region', y='Total Charge', hue='Charge Type', data=charges_by_region)\n",
        "plt.xlabel('Region')\n",
        "plt.ylabel('Total Charge')\n",
        "plt.title('Total Charges by Region')\n",
        "plt.legend(title='Charge Type')\n",
        "\n",
        "# Add data labels to the bars\n",
        "for p in plt.gca().patches:\n",
        "    height = p.get_height()\n",
        "    plt.gca().annotate(f'{height:.2f}', (p.get_x() + p.get_width() / 2, height), ha='center', va='bottom')\n",
        "\n",
        "plt.show()\n"
      ],
      "metadata": {
        "id": "t6GMdE67YoAp"
      },
      "execution_count": null,
      "outputs": []
    },
    {
      "cell_type": "code",
      "source": [
        "\n",
        "# Group the data by city and calculate the sum of charges\n",
        "charges_by_city = df.groupby('City')['Total day charge', 'Total night charge', 'Total intl charge', 'Total eve charge'].sum()\n",
        "\n",
        "# Reset the index to have 'City' as a column\n",
        "charges_by_city = charges_by_city.reset_index()\n",
        "\n",
        "# Melt the DataFrame to convert the columns into a categorical variable\n",
        "charges_by_city = charges_by_city.melt(id_vars='City', var_name='Charge Type', value_name='Total Charge')\n",
        "\n",
        "# Create a grouped bar chart\n",
        "plt.figure(figsize=(12, 6))\n",
        "sns.barplot(x='City', y='Total Charge', hue='Charge Type', data=charges_by_city)\n",
        "plt.xlabel('City')\n",
        "plt.ylabel('Total Charge')\n",
        "plt.title('Total Charges by City')\n",
        "plt.legend(title='Charge Type')\n",
        "\n",
        "# Add data labels to the bars\n",
        "for p in plt.gca().patches:\n",
        "    height = p.get_height()\n",
        "    plt.gca().annotate(f'{height:.2f}', (p.get_x() + p.get_width() / 2, height), ha='center', va='bottom')\n",
        "\n",
        "plt.show()\n",
        "\n"
      ],
      "metadata": {
        "id": "EvZI24Kwa0Tb"
      },
      "execution_count": null,
      "outputs": []
    },
    {
      "cell_type": "markdown",
      "source": [
        "##### 1. Why did you pick the specific chart?"
      ],
      "metadata": {
        "id": "fge-S5ZAYoAp"
      }
    },
    {
      "cell_type": "markdown",
      "source": [
        "1. Clear Comparison: A bar chart allows for a clear and easy comparison between different regions.\n",
        "2. Categorical Data: Bar charts are particularly effective for visualizing categorical data, such as regions in this case\n",
        "3. Easy Interpretation: Bar charts are widely recognized and easy to interpret, making them accessible to a wide range of audiences."
      ],
      "metadata": {
        "id": "5dBItgRVYoAp"
      }
    },
    {
      "cell_type": "markdown",
      "source": [
        "##### 2. What is/are the insight(s) found from the chart?"
      ],
      "metadata": {
        "id": "85gYPyotYoAp"
      }
    },
    {
      "cell_type": "markdown",
      "source": [
        "* Oakland, California:\n",
        "     * Minimum Total Charge: $7,568.66 (Total night charge)\n",
        "     * Maximum Total Charge: $25,531.32 (Total day charge)\n",
        "\n",
        "* San Francisco, California:\n",
        "     * Minimum Total Charge: $15,046.92 (Total night charge)\n",
        "     * Maximum Total Charge: $51,092.06 (Total day charge)\n",
        "\n",
        "* San Jose, California:\n",
        "     * Minimum Total Charge: $7,512.49 (Total night charge)\n",
        "     * Maximum Total Charge: $25,240.79 (Total day charge)\n",
        "\n",
        "* Disparities in Total Charges: There are notable differences in the total charges incurred by customers in different cities. San Francisco, California has the highest maximum total charge, indicating potentially higher usage or larger customer base, while San Jose, California has the lowest maximum total charge among the three cities.\n",
        "\n",
        "* Variation in Usage Patterns: The data suggests that each city may have distinct usage patterns based on the charges incurred. For instance, San Francisco, California has the highest total day charge, indicating that customers in this city have higher daytime call usage compared to Oakland and San Jose. This insight can inform targeted marketing and service strategies tailored to the unique needs of customers in each city.\n",
        "\n",
        "* Potential Revenue Opportunities: The maximum total charge values provide insights into potential revenue opportunities for telecom companies. Identifying the cities with higher total charges allows companies to focus on capturing a larger share of revenue from those areas through targeted marketing, upselling, or offering additional services.\n",
        "\n",
        "* Consideration of Cost Management: On the other hand, the minimum total charge values highlight areas where customers may have lower usage or spending. Companies can analyze these areas to identify opportunities for cost management, service optimization, or developing pricing plans that cater to the specific needs and spending patterns of customers in those cities.\n",
        "\n",
        "* Customer Behavior Insights: The data on total charge by city provides insights into customer behavior, preferences, and usage patterns. Telecom companies can utilize this information to better understand customer segments in each city, identify trends, and tailor their offerings and services to meet the specific demands of customers in different locations.\n",
        "\n",
        "* Strategic Decision-making: The variations in total charges across cities can guide strategic decision-making, such as resource allocation, network infrastructure investment, and marketing campaigns. Understanding the differences in customer spending patterns can help companies allocate resources effectively and make informed decisions to drive business growth in each city."
      ],
      "metadata": {
        "id": "4jstXR6OYoAp"
      }
    },
    {
      "cell_type": "markdown",
      "source": [
        "##### 3. Will the gained insights help creating a positive business impact?\n",
        "Are there any insights that lead to negative growth? Justify with specific reason."
      ],
      "metadata": {
        "id": "RoGjAbkUYoAp"
      }
    },
    {
      "cell_type": "markdown",
      "source": [
        "**Positive Business Impact**\n",
        "\n",
        "The insights on total charges by city provide valuable information for revenue optimization, allowing telecom companies to focus on cities with higher revenue potential and develop targeted strategies to maximize revenue generation.\n",
        "\n",
        "By understanding customer behavior and preferences in specific cities, telecom companies can tailor their marketing and service strategies, leading to improved customer satisfaction, loyalty, and positive business impact.\n",
        "\n",
        "The gained insights support strategic decision-making regarding market expansion, resource allocation, and service optimization, enabling telecom companies to capture new markets, allocate resources effectively, and drive positive business growth.\n"
      ],
      "metadata": {
        "id": "n44o2NfCJrma"
      }
    },
    {
      "cell_type": "markdown",
      "source": [],
      "metadata": {
        "id": "zfJ8IqMcYoAp"
      }
    },
    {
      "cell_type": "markdown",
      "source": [
        "#### Chart - 4"
      ],
      "metadata": {
        "id": "4Of9eVA-YrdM"
      }
    },
    {
      "cell_type": "code",
      "source": [
        "# Chart - 4 visualization\n",
        "\n",
        "# Calculate average call duration for each time category\n",
        "average_duration_day = df['Call duration day'].mean()\n",
        "average_duration_eve = df['Call duration eve'].mean()\n",
        "average_duration_night = df['Call duration night'].mean()\n",
        "\n",
        "# Create a bar chart to visualize the average call duration\n",
        "time_categories = ['Day', 'Evening', 'Night']\n",
        "average_durations = [average_duration_day, average_duration_eve, average_duration_night]\n",
        "bar_colors = ['purple', 'blue', 'green']\n",
        "\n",
        "plt.bar(time_categories, average_durations, color=bar_colors)\n",
        "\n",
        "# Add data labels to the bars\n",
        "for i, duration in enumerate(average_durations):\n",
        "    plt.text(i, duration, f'{duration:.2f}', ha='center', va='bottom')\n",
        "\n",
        "plt.xlabel('Time of Day')\n",
        "plt.ylabel('Average Call Duration')\n",
        "plt.title('Average Call Duration during the Day, Evening, and Night')\n",
        "plt.show()\n",
        "\n"
      ],
      "metadata": {
        "id": "irlUoxc8YrdO"
      },
      "execution_count": null,
      "outputs": []
    },
    {
      "cell_type": "markdown",
      "source": [
        "##### 1. Why did you pick the specific chart?"
      ],
      "metadata": {
        "id": "iky9q4vBYrdO"
      }
    },
    {
      "cell_type": "markdown",
      "source": [
        "1. Clear Comparison: A bar chart allows for a clear and easy comparison between different regions.\n",
        "2. Categorical Data: Bar charts are particularly effective for visualizing categorical data, such as regions in this case\n",
        "3. Easy Interpretation: Bar charts are widely recognized and easy to interpret, making them accessible to a wide range of audiences."
      ],
      "metadata": {
        "id": "aJRCwT6DYrdO"
      }
    },
    {
      "cell_type": "markdown",
      "source": [
        "##### 2. What is/are the insight(s) found from the chart?"
      ],
      "metadata": {
        "id": "F6T5p64dYrdO"
      }
    },
    {
      "cell_type": "markdown",
      "source": [
        " The average call duration for the \"Evening\" time category (2.104 minutes) is slightly higher than both the \"Day\" time category (1.873 minutes) and the \"Night\" time category (2.092 minutes). This indicates that people tend to have longer conversations during the evening hours compared to other parts of the day.\n",
        "\n",
        "The highest total call duration is observed during the \"Evening\" time category (2.104 minutes), followed closely by the \"Night\" time category (2.092 minutes). This suggests that people are more likely to engage in phone conversations during the later hours of the day.\n",
        "\n",
        "The \"Day\" time category has the lowest total call duration (1.873 minutes) among the three time categories. This implies that phone usage for making calls is relatively lower during daytime compared to the evening and night periods.\n",
        "\n",
        "The differences in average call durations between the three time categories are relatively small. The highest difference is only 0.231 minutes (between \"Evening\" and \"Day\"), while the smallest difference is 0.018 minutes (between \"Night\" and \"Evening\"). This indicates that call durations remain relatively consistent across different times of the day.\n",
        "\n",
        "Overall, the total call durations for all time categories are fairly close to each other, ranging from 1.873 minutes to 2.105 minutes. This suggests that people have relatively consistent call durations, regardless of the time of day.\n",
        "\n",
        "It is worth noting that these insights are based on the provided data, which only includes average call durations for each time category. Additional information, such as the number of calls or the specific time intervals within each category, could provide further context and enhance the insights derived from the chart."
      ],
      "metadata": {
        "id": "Xx8WAJvtYrdO"
      }
    },
    {
      "cell_type": "markdown",
      "source": [
        "##### 3. Will the gained insights help creating a positive business impact?\n",
        "Are there any insights that lead to negative growth? Justify with specific reason."
      ],
      "metadata": {
        "id": "y-Ehk30pYrdP"
      }
    },
    {
      "cell_type": "markdown",
      "source": [
        "**Positive Business Impact**\n",
        "* Analyzing call durations by time category reveals that evening calls have the longest average duration of 2.104 minutes, compared to 1.873 minutes for daytime calls and 2.092 minutes for nighttime calls.\n",
        "* The total call duration for the evening category is 2.1037, indicating a significant volume of calls during this period.\n",
        "* Daytime calls have a total call duration of 1.8725, suggesting a relatively lower volume of calls compared to the other time categories.\n",
        "* Nighttime calls have a total call duration of 2.0917, showing a consistent level of phone usage during this period.\n",
        "* These insights can guide businesses in allocating resources, scheduling staff, and optimizing services to enhance customer engagement and drive positive business impact.\n"
      ],
      "metadata": {
        "id": "jLNxxz7MYrdP"
      }
    },
    {
      "cell_type": "markdown",
      "source": [
        "#### Chart - 5"
      ],
      "metadata": {
        "id": "bamQiAODYuh1"
      }
    },
    {
      "cell_type": "code",
      "source": [
        "# Chart - 5 visualization code\n",
        "# Count the number of customers with international plans\n",
        "total_customers_international = df[df['International plan'] == 'Yes'].shape[0]\n",
        "\n",
        "# Count the number of customers without international plans\n",
        "total_customers_no_international = df[df['International plan'] == 'No'].shape[0]\n",
        "\n",
        "# Create a bar chart\n",
        "plt.figure(figsize=(8, 6))\n",
        "plt.bar(['International Plan', 'No International Plan'], [total_customers_international, total_customers_no_international], color=['green', 'blue'])\n",
        "plt.xlabel('Plan Type')\n",
        "plt.ylabel('Number of Customers')\n",
        "plt.title('Number of Customers by Plan Type')\n",
        "\n",
        "# Add data labels to the bars\n",
        "for i, count in enumerate([total_customers_international, total_customers_no_international]):\n",
        "    plt.text(i, count, str(count), ha='center', va='bottom')\n",
        "\n",
        "plt.show()\n"
      ],
      "metadata": {
        "id": "TIJwrbroYuh3"
      },
      "execution_count": null,
      "outputs": []
    },
    {
      "cell_type": "markdown",
      "source": [
        "##### 1. Why did you pick the specific chart?"
      ],
      "metadata": {
        "id": "QHF8YVU7Yuh3"
      }
    },
    {
      "cell_type": "markdown",
      "source": [
        "Answer Here."
      ],
      "metadata": {
        "id": "dcxuIMRPYuh3"
      }
    },
    {
      "cell_type": "markdown",
      "source": [
        "##### 2. What is/are the insight(s) found from the chart?"
      ],
      "metadata": {
        "id": "GwzvFGzlYuh3"
      }
    },
    {
      "cell_type": "markdown",
      "source": [
        "* The number of customers with an international plan is 323, indicating a subset of customers who have opted for international calling features.\n",
        "* The majority of customers, numbering 3010, do not have an international plan, suggesting that international calling may not be a primary requirement for the majority of the customer base.\n",
        "* The ratio of customers with an international plan to those without one is approximately 1:9, indicating that international calling services are relatively less popular among the customer base.\n",
        "* Businesses can focus on catering to the communication needs of the majority of customers who do not have an international plan by providing localized services and competitive pricing for domestic calls.\n",
        "* Understanding the distribution of customers with and without international plans helps businesses tailor their marketing strategies and product offerings to specific customer segments, optimizing their sales and service approach.\n",
        "\n",
        "These insights provide an understanding of the adoption and preferences for international plans among customers, enabling businesses to make informed decisions about their product offerings, marketing campaigns, and customer support services."
      ],
      "metadata": {
        "id": "uyqkiB8YYuh3"
      }
    },
    {
      "cell_type": "markdown",
      "source": [
        "##### 3. Will the gained insights help creating a positive business impact?\n",
        "Are there any insights that lead to negative growth? Justify with specific reason."
      ],
      "metadata": {
        "id": "qYpmQ266Yuh3"
      }
    },
    {
      "cell_type": "markdown",
      "source": [
        "**Positive Impact**\n",
        "\n",
        "* Understanding the distribution of customers with and without international plans allows businesses to target their marketing efforts effectively, reaching the right customer segments and maximizing campaign impact.\n",
        "\n",
        "* Optimizing product offerings based on customer preferences for international plans increases customer satisfaction and loyalty, leading to positive word-of-mouth and repeat business.\n",
        "\n",
        "* By differentiating their international calling services, businesses can gain a competitive advantage, attract new customers, and retain existing ones.\n",
        "\n",
        "* Developing effective pricing strategies for international plans based on customer adoption patterns drives revenue growth and enhances the overall financial performance of the business.\n",
        "\n",
        "* Providing targeted support and tailored customer service to international plan subscribers improves customer satisfaction, boosts retention rates, and reduces churn.\n",
        "\n",
        "* Insights into customer preferences for international plans can guide product development and feature enhancements, aligning offerings with market demand and customer expectations.\n",
        "\n",
        "* Analyzing the ratio of customers with international plans to those without provides insights into the potential growth opportunities for expanding international calling services.\n",
        "\n",
        "* Tailoring marketing messages and promotions to customer segments based on international plan adoption increases engagement, response rates, and conversion rates.\n",
        "\n",
        "* Leveraging insights about international plan adoption helps businesses optimize resource allocation, ensuring adequate staffing and infrastructure to support international calling needs.\n",
        "\n",
        "* Utilizing data-driven insights to make informed decisions about international plan offerings and customer engagement strategies creates a positive impact on customer satisfaction, business growth, and long-term success.\n",
        "\n",
        "By applying these insights effectively, businesses can enhance their competitive position, drive customer satisfaction and loyalty, increase revenue, and ultimately achieve positive business impact."
      ],
      "metadata": {
        "id": "_WtzZ_hCYuh4"
      }
    },
    {
      "cell_type": "markdown",
      "source": [
        "#### Chart - 6"
      ],
      "metadata": {
        "id": "OH-pJp9IphqM"
      }
    },
    {
      "cell_type": "code",
      "source": [
        "# Chart - 6 visualization code\n",
        "# the distribution of \"Total_Call_Minutes\" across different regions\n",
        "df.boxplot(column='Total_Call_Minutes', by='Region')\n",
        "plt.xlabel('Region')\n",
        "plt.ylabel('Total Call Minutes')\n",
        "plt.title('Distribution of Total Call Minutes by Region')\n",
        "plt.show()"
      ],
      "metadata": {
        "id": "kuRf4wtuphqN"
      },
      "execution_count": null,
      "outputs": []
    },
    {
      "cell_type": "markdown",
      "source": [
        "##### 1. Why did you pick the specific chart?"
      ],
      "metadata": {
        "id": "bbFf2-_FphqN"
      }
    },
    {
      "cell_type": "markdown",
      "source": [
        "* Box plots offer a clear visual representation of the distribution of \"Total_Call_Minutes\" across different regions.\n",
        "* They enable easy comparison between regions, aiding in identifying variations in the distribution of call minutes.\n",
        "* Outliers in the data can be easily detected and analyzed using box plots.\n",
        "* Skewness in the distribution can be assessed by examining the position and shape of the box plot elements.\n",
        "* Box plots provide a concise and intuitive way to communicate the distributional characteristics of \"Total_Call_Minutes\" for effective decision-making."
      ],
      "metadata": {
        "id": "loh7H2nzphqN"
      }
    },
    {
      "cell_type": "markdown",
      "source": [
        "##### 2. What is/are the insight(s) found from the chart?"
      ],
      "metadata": {
        "id": "_ouA3fa0phqN"
      }
    },
    {
      "cell_type": "markdown",
      "source": [
        "Regional variations: The mean and median \"Total_Call_Minutes\" values indicate that the Midwest region has the highest average call duration (588.15 minutes), followed closely by the Northeast (587.06 minutes) and the South (579.23 minutes). This insight can help businesses understand regional differences in call durations and tailor their services accordingly.\n",
        "\n",
        "Outlier detection: The maximum \"Total_Call_Minutes\" values for each region (800.0 in the Mid-Atlantic, 841.3 in the Midwest, 871.7 in the Northeast, 876.9 in the South, and 821.2 in the West) suggest the presence of outliers. These outliers may represent exceptional cases that require further analysis, such as identifying specific customer needs or exploring opportunities for service improvement.\n",
        "\n",
        "Opportunities for optimization: The minimum \"Total_Call_Minutes\" values (326.0 in the Mid-Atlantic, 275.2 in the Midwest, 311.7 in the Northeast, 311.4 in the South, and 333.7 in the West) indicate potential opportunities to optimize call durations. Businesses can explore strategies to reduce call times further, improving efficiency and potentially freeing up resources for other tasks.\n",
        "\n",
        "Service demand: The count of \"Total_Call_Minutes\" indicates the number of calls recorded for each region. The South region has the highest call volume (1055 calls), followed by the West (831 calls), the Northeast (591 calls), the Midwest (802 calls), and the Mid-Atlantic (54 calls). This insight can guide resource allocation and staffing decisions, ensuring adequate support to meet the demand in each region.\n",
        "\n",
        "Regional preferences: The median \"Total_Call_Minutes\" values (583.1 in the Mid-Atlantic, 590.2 in the Midwest, 584.1 in the Northeast, 580.3 in the South, and 578.3 in the West) represent the middle point of the distribution. These values suggest the typical call duration experienced by customers in each region, reflecting regional preferences and behavior patterns. Understanding these preferences can help businesses tailor their services and offerings to meet customer expectations effectively.\n",
        "\n",
        "These insights can aid businesses in optimizing their operations, allocating resources strategically, identifying customer needs, and tailoring their services to enhance customer satisfaction and overall business performance."
      ],
      "metadata": {
        "id": "VECbqPI7phqN"
      }
    },
    {
      "cell_type": "markdown",
      "source": [
        "##### 3. Will the gained insights help creating a positive business impact?\n",
        "Are there any insights that lead to negative growth? Justify with specific reason."
      ],
      "metadata": {
        "id": "Seke61FWphqN"
      }
    },
    {
      "cell_type": "markdown",
      "source": [
        "**Positive Business Impact**\n",
        "\n",
        "* Resource optimization: Understanding variations in call durations across regions can help businesses allocate resources effectively.\n",
        "* Personalized services: Tailoring offerings to regional preferences and needs enhances customer satisfaction and loyalty.\n",
        "* Operational efficiency: Identifying outliers and efficiency opportunities streamlines processes and reduces wait times.\n",
        "* Data-driven decisions: Analyzing call durations aids in making informed decisions and developing targeted strategies.\n",
        "* Competitive advantage: Meeting regional expectations and delivering exceptional experiences differentiates the business from competitors.\n",
        "* Continuous improvement: Tracking performance and analyzing trends fosters ongoing improvement efforts.\n",
        "* Mid-Atlantic region: Average call duration: 574 minutes, Median: 583.1, Min: 326, Max: 800, Count: 54.\n",
        "* Midwest region: Average call duration: 588.15 minutes, Median: 590.2, Min: 275.2, Max: 841.3, Count: 802.\n",
        "* Northeast region: Average call duration: 587.06 minutes, Median: 584.1, Min: 311.7, Max: 871.7, Count: 591.\n",
        "* South region: Average call duration: 579.23 minutes, Median: 580.3, Min: 311.4, Max: 876.9, Count: 1055.\n",
        "* By leveraging these insights, businesses can optimize resources, enhance customer experiences, improve operational efficiency, make data-driven decisions, gain a competitive advantage, and drive continuous improvement.\n",
        "\n",
        "\n",
        "**Negative Business Impact**\n",
        "\n",
        "* Imbalanced resource allocation due to varying call durations across regions can lead to understaffing or inadequate support in certain areas, resulting in longer wait times and decreased customer satisfaction.\n",
        "* Outliers in call durations, such as the maximum recorded values, may indicate operational challenges or service issues that need to be addressed promptly to prevent negative customer experiences.\n",
        "* Inconsistent customer experiences across regions, reflected in the differences in average and median call durations, can lead to varying levels of customer satisfaction and potentially contribute to customer churn.\n",
        "* Difficulty in accurately planning resources due to the wide range of minimum and maximum call durations may result in inefficiencies, overstaffing during slower periods, or understaffing during high-demand periods.\n",
        "* Regions with consistently higher average or median call durations compared to competitors may face a competitive disadvantage, as customers may perceive their service as slower or less efficient.\n",
        "* Longer call durations in specific regions may indicate a higher volume of complex or unresolved customer issues, potentially resulting in decreased customer satisfaction and loyalty.\n",
        "* Inadequate support or longer call durations in the Mid-Atlantic region (with a count of 54 calls) may suggest limited resources or underdeveloped customer service infrastructure in that area.\n",
        "**By addressing these potential negative impacts, businesses can work towards optimizing resources, improving operational efficiency, providing consistent customer experiences, and staying competitive in the market**\n"
      ],
      "metadata": {
        "id": "DW4_bGpfphqN"
      }
    },
    {
      "cell_type": "markdown",
      "source": [
        "#### Chart - 7"
      ],
      "metadata": {
        "id": "PIIx-8_IphqN"
      }
    },
    {
      "cell_type": "code",
      "source": [
        "# Count the number of customers in each region\n",
        "region_counts = df['Region'].value_counts()\n",
        "\n",
        "# Create a bar chart\n",
        "plt.figure(figsize=(10, 6))\n",
        "plt.bar(region_counts.index, region_counts.values, color='green')\n",
        "\n",
        "# Add data labels to the bars\n",
        "for i, count in enumerate(region_counts.values):\n",
        "    plt.text(i, count, str(count), ha='center', va='bottom')\n",
        "\n",
        "plt.xlabel('Region')\n",
        "plt.ylabel('Count of Customers')\n",
        "plt.title('Number of Customers by Region')\n",
        "plt.xticks(rotation=45)\n",
        "plt.show()\n",
        "\n"
      ],
      "metadata": {
        "id": "lqAIGUfyphqO"
      },
      "execution_count": null,
      "outputs": []
    },
    {
      "cell_type": "markdown",
      "source": [
        "##### 1. Why did you pick the specific chart?"
      ],
      "metadata": {
        "id": "t27r6nlMphqO"
      }
    },
    {
      "cell_type": "markdown",
      "source": [
        "* Clear Comparison: A bar chart allows for a clear and easy comparison between different regions.\n",
        "* Categorical Data: Bar charts are particularly effective for visualizing categorical data, such as regions in this case\n",
        "* Easy Interpretation: Bar charts are widely recognized and easy to interpret, making them accessible to a wide range of audiences."
      ],
      "metadata": {
        "id": "iv6ro40sphqO"
      }
    },
    {
      "cell_type": "markdown",
      "source": [
        "##### 2. What is/are the insight(s) found from the chart?"
      ],
      "metadata": {
        "id": "r2jJGEOYphqO"
      }
    },
    {
      "cell_type": "markdown",
      "source": [
        "* Market potential: The South region has the highest number of customers (1055), indicating a potentially large market size. Businesses operating in or targeting this region can leverage this customer base for growth and expansion opportunities.\n",
        "\n",
        "* Competitive advantage: The West region has a significant number of customers (831), suggesting a substantial customer base that businesses can tap into. This may provide a competitive advantage for companies operating in this region, as there is a large pool of potential customers to target.\n",
        "\n",
        "* Market saturation: The Mid-Atlantic region has the lowest number of customers (54), indicating potential market saturation or limited market demand. Businesses operating in this region may need to explore strategies to attract and retain customers in a relatively smaller customer base.\n",
        "\n",
        "* Market diversity: The Midwest and Northeast regions have a relatively high number of customers (802 and 591, respectively), reflecting market diversity and potential opportunities for businesses to cater to a broad range of customer preferences and needs.\n",
        "\n",
        "* Regional targeting: By understanding the distribution of customers across regions, businesses can develop region-specific marketing strategies and tailor their offerings to meet the unique demands and preferences of customers in each region. This targeted approach can lead to better customer engagement and higher conversion rates.\n",
        "\n",
        "* These insights can guide businesses in strategic decision-making, such as market expansion plans, resource allocation, and targeted marketing efforts. Understanding the customer distribution across regions allows businesses to capitalize on market potential, adapt their strategies to local market conditions, and maximize their impact in each region."
      ],
      "metadata": {
        "id": "Po6ZPi4hphqO"
      }
    },
    {
      "cell_type": "markdown",
      "source": [
        "##### 3. Will the gained insights help creating a positive business impact?\n",
        "Are there any insights that lead to negative growth? Justify with specific reason."
      ],
      "metadata": {
        "id": "b0JNsNcRphqO"
      }
    },
    {
      "cell_type": "markdown",
      "source": [
        "**Positive Impact**\n",
        "\n",
        "* Insights into regional customer distribution enable targeted marketing strategies, resulting in increased reach and engagement.\n",
        "* Optimized resource allocation based on customer counts in each region leads to improved operational efficiency and customer satisfaction.\n",
        "* Identification of regions with high customer counts provides opportunities for market expansion and revenue growth.\n",
        "Tailoring products, services, and marketing strategies to regional preferences enhances customer satisfaction and loyalty.\n",
        "Understanding regional customer behaviors and needs enables effective customer segmentation and personalized experiences.\n",
        "Leveraging regions with a strong customer base creates a competitive advantage over rivals.\n",
        "Targeting regions with growth potential enables businesses to capitalize on emerging market opportunities.\n",
        "Allocation of resources to regions with larger customer counts drives sales and revenue generation.\n",
        "Adaptation of offerings to regional demands increases customer relevance and market penetration.\n",
        "Utilizing regional customer insights fosters strategic decision-making and aligns business efforts with market potential for long-term success."
      ],
      "metadata": {
        "id": "xvSq8iUTphqO"
      }
    },
    {
      "cell_type": "markdown",
      "source": [
        "#### Chart - 8"
      ],
      "metadata": {
        "id": "BZR9WyysphqO"
      }
    },
    {
      "cell_type": "code",
      "source": [
        "# Chart - 8 visualization code\n",
        "data = {\n",
        "    'Churn_x': ['Yes', 'No', 'No', 'Yes', 'No']\n",
        "}\n",
        "\n",
        "# Counting churned and non-churned customers\n",
        "churned = data['Churn_x'].count('Yes')\n",
        "non_churned = data['Churn_x'].count('No')\n",
        "\n",
        "# Creating the pie chart\n",
        "plt.figure(figsize=(6, 6))\n",
        "labels = ['Churned', 'Non-Churned']\n",
        "sizes = [churned, non_churned]\n",
        "plt.pie(sizes, labels=labels, autopct='%1.1f%%', startangle=90)\n",
        "plt.title('Customer Churn')\n",
        "plt.show()\n"
      ],
      "metadata": {
        "id": "TdPTWpAVphqO"
      },
      "execution_count": null,
      "outputs": []
    },
    {
      "cell_type": "code",
      "source": [
        "\n",
        " # Calculate the average number of customer service calls by city\n",
        "max_calls_by_city = df.groupby('City')['Customer service calls'].max()\n",
        "\n",
        "# Sort the average calls in descending order\n",
        "max_calls_by_city = max_calls_by_city.sort_values(ascending=False)\n",
        "\n",
        "# Create a bar chart\n",
        "plt.figure(figsize=(12, 6))\n",
        "plt.bar(max_calls_by_city.index, max_calls_by_city.values, color='purple')\n",
        "plt.xlabel('City')\n",
        "plt.ylabel('Average Number of Customer Service Calls')\n",
        "plt.title('Average Customer Service Calls by City')\n",
        "plt.xticks(rotation=45)\n",
        "\n",
        "# Add data labels to the bars\n",
        "for i, avg_calls in enumerate(max_calls_by_city.values):\n",
        "    plt.text(i, avg_calls, f'{avg_calls:.2f}', ha='center', va='bottom')\n",
        "\n",
        "plt.show()\n"
      ],
      "metadata": {
        "id": "TW28i40L4yzb"
      },
      "execution_count": null,
      "outputs": []
    },
    {
      "cell_type": "markdown",
      "source": [
        "##### 1. Why did you pick the specific chart?"
      ],
      "metadata": {
        "id": "jj7wYXLtphqO"
      }
    },
    {
      "cell_type": "markdown",
      "source": [
        "1. Pie Chart: A pie chart is used to visualize proportions or percentages of a whole. It is particularly useful when you want to show the distribution of a categorical variable as parts of a whole. In the context of customer churn, a pie chart can effectively represent the proportion of churned customers (40%) and non-churned customers (60%) out of the total customer base. It provides a clear visual representation of the relative sizes of these categories and helps highlight the proportion of churned customers in relation to the overall customer base.\n",
        "\n",
        "2. Bar Chart: A bar chart, on the other hand, is commonly used to compare and display the values of different categories. It is suitable for showing quantitative data across different groups or categories. In the context of maximum customer service calls by city, a bar chart is an appropriate choice as it allows for a visual comparison of the number of customer service calls for each city (Oakland, San Jose, San Francisco). The length of the bars represents the count of customer service calls, making it easy to identify the city with the highest call volume."
      ],
      "metadata": {
        "id": "Ob8u6rCTphqO"
      }
    },
    {
      "cell_type": "markdown",
      "source": [
        "##### 2. What is/are the insight(s) found from the chart?"
      ],
      "metadata": {
        "id": "eZrbJ2SmphqO"
      }
    },
    {
      "cell_type": "markdown",
      "source": [
        "* Varied customer service call volumes: The data reveals that customer service call volumes vary across different cities, with Oakland having the lowest count (8), and both San Jose and San Francisco having the highest count (9 each). This insight suggests the need for further analysis to understand the underlying factors contributing to these differences.\n",
        "\n",
        "* Potential service challenges: The cities with the highest number of customer service calls (San Jose and San Francisco) may indicate potential service challenges or issues that customers are experiencing. This insight highlights the importance of closely examining the nature of these calls to identify areas for improvement and enhance the customer service experience.\n",
        "\n",
        "* Resource allocation considerations: The variation in customer service call volumes among cities emphasizes the importance of strategically allocating resources. Businesses should consider directing sufficient resources and staffing to cities with higher call volumes (San Jose and San Francisco) to meet customer demands effectively and provide timely support.\n",
        "\n",
        "*  Customer satisfaction and loyalty: The number of customer service calls can serve as an indicator of customer satisfaction and loyalty. Higher call volumes may suggest that customers in certain cities have a greater need for assistance or may be facing challenges. Addressing these concerns promptly and effectively can help improve customer satisfaction and foster long-term loyalty.\n",
        "\n",
        "* Targeted improvement efforts: Analyzing the cities with higher customer service call volumes allows businesses to target specific areas for improvement. By identifying the common issues or concerns raised by customers in these cities, businesses can implement targeted strategies, such as enhanced training, process improvements, or self-service options, to reduce the need for customer service interactions and improve overall customer experience.\n",
        "\n",
        "* These insights can guide businesses in allocating resources efficiently, identifying areas for improvement, and enhancing the customer service experience. By addressing the specific needs and challenges in each city, businesses can improve customer satisfaction, reduce call volumes, and positively impact customer retention and loyalty."
      ],
      "metadata": {
        "id": "mZtgC_hjphqO"
      }
    },
    {
      "cell_type": "markdown",
      "source": [
        "##### 3. Will the gained insights help creating a positive business impact?\n",
        "Are there any insights that lead to negative growth? Justify with specific reason."
      ],
      "metadata": {
        "id": "rFu4xreNphqO"
      }
    },
    {
      "cell_type": "markdown",
      "source": [
        "**Positive Impact**\n",
        "\n",
        "* Understanding the customer churn rate (40%) enables businesses to focus on reducing churn, improving customer retention, and fostering long-term customer loyalty.\n",
        "* Identifying that 60% of customers have not churned indicates a majority of customers who can potentially generate recurring revenue and contribute to business growth.\n",
        "* By addressing customer churn, businesses can improve their customer lifetime value and overall profitability.\n",
        "* Analyzing the maximum customer service calls by city allows businesses to allocate resources efficiently and provide timely support in high-demand areas.\n",
        "* Prioritizing cities with higher call volumes (San Jose and San Francisco) for service improvements can lead to enhanced customer satisfaction and loyalty.\n",
        "* Effective resource allocation based on customer service calls helps optimize operational costs and improve service efficiency.\n",
        "* Proactive measures to reduce customer service calls through process improvements or self-service options can result in cost savings and improved customer experience.\n",
        "* Addressing common issues raised through customer service calls can result in fewer repeat inquiries and higher customer satisfaction.\n",
        "* Positive customer service experiences contribute to positive word-of-mouth recommendations, which can attract new customers and drive business growth.\n",
        "* By leveraging the insights from customer churn and customer service calls, businesses can make data-driven decisions and implement strategies to create a positive impact on customer retention, satisfaction, and overall business success.\n",
        "* These insights allow businesses to focus their efforts and resources on improving customer retention, enhancing service quality, and driving positive business outcomes based on the specific challenges and opportunities highlighted by the data."
      ],
      "metadata": {
        "id": "ey_0qi68phqO"
      }
    },
    {
      "cell_type": "markdown",
      "source": [
        "#### Chart - 9"
      ],
      "metadata": {
        "id": "YJ55k-q6phqO"
      }
    },
    {
      "cell_type": "code",
      "source": [
        "\n",
        "# Group the data by city\n",
        "grouped_data = df.groupby('City')\n",
        "\n",
        "# Iterate over each city\n",
        "for city, city_data in grouped_data:\n",
        "    # Calculate the count of each international plan category\n",
        "    international_plan_counts = city_data['International plan'].value_counts()\n",
        "\n",
        "    # Create a pie chart\n",
        "    plt.figure(figsize=(4, 4))\n",
        "    plt.pie(international_plan_counts, labels=international_plan_counts.index, autopct='%1.1f%%', startangle=90)\n",
        "    plt.title(f'Total International Plan Distribution in {city}')\n",
        "\n",
        "    plt.axis('equal')  # Ensure pie chart is drawn as a circle\n",
        "\n",
        "    plt.show()\n"
      ],
      "metadata": {
        "id": "B2aS4O1ophqO"
      },
      "execution_count": null,
      "outputs": []
    },
    {
      "cell_type": "markdown",
      "source": [
        "##### 1. Why did you pick the specific chart?"
      ],
      "metadata": {
        "id": "gCFgpxoyphqP"
      }
    },
    {
      "cell_type": "markdown",
      "source": [
        "* Pie charts are effective in visually representing proportions or percentages of a whole, allowing for easy comparison of different categories.\n",
        "* The visual simplicity of pie charts makes them intuitive and easy to understand, even for non-specialist audiences.\n",
        "* Pie charts highlight the composition or breakdown of a whole into its constituent parts, enabling viewers to grasp the distribution of data categories.\n",
        "* They provide a quick and visually appealing overview of data distribution, making them suitable for presenting high-level summaries or key insights.\n",
        "* Pie charts are particularly useful for representing nominal or categorical data, where data points fall into distinct categories rather than having a numerical scale."
      ],
      "metadata": {
        "id": "TVxDimi2phqP"
      }
    },
    {
      "cell_type": "markdown",
      "source": [
        "##### 2. What is/are the insight(s) found from the chart?"
      ],
      "metadata": {
        "id": "OVtJsKN_phqQ"
      }
    },
    {
      "cell_type": "markdown",
      "source": [
        "* In Oakland, California, the majority of customers (around 88%) do not have an international plan, while a smaller portion (around 12%) have opted for an international plan.\n",
        "\n",
        "* San Francisco, California, has a similar trend, with approximately 91% of customers not having an international plan and around 9% choosing to have one.\n",
        "\n",
        "* In San Jose, California, the majority of customers (around 92%) do not have an international plan, while a smaller percentage (around 8%) have opted for one.\n",
        "\n",
        "* Across all three cities, the percentage of customers without an international plan is higher than those with an international plan, indicating that most customers in these cities do not require international calling features.\n",
        "\n",
        "* Oakland has the highest number of customers with an international plan (102) compared to San Francisco (150) and San Jose (71).\n",
        "\n",
        "* San Francisco has the highest total number of customers (1,655), followed by San Jose (838), and Oakland (840).\n",
        "\n",
        "* The distribution of international plans varies slightly among the three cities, suggesting potential differences in customer preferences or needs in terms of international calling services.\n",
        "\n",
        "* The majority of customers in all three cities have not subscribed to an international plan, indicating that they either have alternative means for international calls or do not require such services frequently.\n",
        "\n",
        "* Businesses can focus on marketing international plans more effectively in Oakland due to a relatively higher number of customers opting for this feature.\n",
        "\n",
        "* Understanding the distribution of international plan usage by city helps businesses tailor their offerings, promotions, and customer support services to cater to the specific needs and preferences of customers in each city."
      ],
      "metadata": {
        "id": "ngGi97qjphqQ"
      }
    },
    {
      "cell_type": "markdown",
      "source": [
        "##### 3. Will the gained insights help creating a positive business impact?\n",
        "Are there any insights that lead to negative growth? Justify with specific reason."
      ],
      "metadata": {
        "id": "lssrdh5qphqQ"
      }
    },
    {
      "cell_type": "markdown",
      "source": [
        "**Positive Impact**\n",
        "\n",
        "* Understanding the distribution of international plan usage by city allows businesses to target marketing efforts effectively and maximize the impact of promotional campaigns.\n",
        "* Customizing services based on the proportion of customers with an international plan in each city enhances customer satisfaction and meets specific needs.\n",
        "* Efficient resource allocation based on international plan usage optimizes operational costs and ensures prompt support in high-demand areas.\n",
        "* Optimization of international plan offerings based on customer preferences drives product improvements and enhances the overall value proposition.\n",
        "* Addressing the needs of customers with international plans increases customer satisfaction and reduces churn, leading to improved retention rates.\n",
        "* Leveraging insights into international plan usage provides a competitive advantage by differentiating services and attracting new customers.\n",
        "* Increased adoption of international plans in targeted cities contributes to revenue growth and financial success.\n",
        "* Data-driven decision-making based on international plan usage enables informed choices for product development, marketing strategies, and resource allocation.\n",
        "* Tailoring marketing efforts and services to specific cities improves customer engagement and strengthens brand loyalty.\n",
        "* Understanding international plan usage helps businesses tap into untapped market potential and capitalize on customer preferences for long-term business success."
      ],
      "metadata": {
        "id": "tBpY5ekJphqQ"
      }
    },
    {
      "cell_type": "markdown",
      "source": [
        "#### Chart - 10"
      ],
      "metadata": {
        "id": "U2RJ9gkRphqQ"
      }
    },
    {
      "cell_type": "code",
      "source": [
        "# Calculate the total call usage in each region\n",
        "region_call_usage = df['Region'].value_counts()\n",
        "\n",
        "# Create a pie chart\n",
        "plt.figure(figsize=(4, 4))\n",
        "plt.pie(region_call_usage, labels=region_call_usage.index, autopct='%1.1f%%', startangle=90)\n",
        "plt.title('Call Usage by Region')\n",
        "\n",
        "plt.axis('equal')  # Ensure pie chart is drawn as a circle\n",
        "\n",
        "plt.show()\n"
      ],
      "metadata": {
        "id": "GM7a4YP4phqQ"
      },
      "execution_count": null,
      "outputs": []
    },
    {
      "cell_type": "code",
      "source": [
        " # Calculate the total call usage in each city\n",
        "city_call_usage = df['City'].value_counts()\n",
        "\n",
        "# Create a pie chart\n",
        "plt.figure(figsize=(4, 4))\n",
        "plt.pie(city_call_usage, labels=city_call_usage.index, autopct='%1.1f%%', startangle=90)\n",
        "plt.title('Call Usage by City')\n",
        "\n",
        "plt.axis('equal')  # Ensure pie chart is drawn as a circle\n",
        "\n",
        "plt.show()\n"
      ],
      "metadata": {
        "id": "zOlr0Ir44CAE"
      },
      "execution_count": null,
      "outputs": []
    },
    {
      "cell_type": "markdown",
      "source": [
        "##### 1. Why did you pick the specific chart?"
      ],
      "metadata": {
        "id": "1M8mcRywphqQ"
      }
    },
    {
      "cell_type": "markdown",
      "source": [
        "* Pie charts are effective in visually representing proportions or percentages of a whole, allowing for easy comparison of different categories.\n",
        "* The visual simplicity of pie charts makes them intuitive and easy to understand, even for non-specialist audiences.\n",
        "*  Pie charts highlight the composition or breakdown of a whole into its constituent parts, enabling viewers to grasp the distribution of data categories.\n",
        "* They provide a quick and visually appealing overview of data distribution, making them suitable for presenting high-level summaries or key insights.\n",
        "* Pie charts are particularly useful for representing nominal or categorical data, where data points fall into distinct categories rather than having a numerical scale."
      ],
      "metadata": {
        "id": "8agQvks0phqQ"
      }
    },
    {
      "cell_type": "markdown",
      "source": [
        "##### 2. What is/are the insight(s) found from the chart?"
      ],
      "metadata": {
        "id": "tgIPom80phqQ"
      }
    },
    {
      "cell_type": "markdown",
      "source": [
        "* Call Usage by Region:\n",
        "   * The South region has the highest call usage with 1055 calls, followed by the West region with 831 calls.\n",
        "   * The Midwest and Northeast regions also have substantial call usage with 802 and 591 calls, respectively.\n",
        "   * The Mid-Atlantic region has the lowest call usage with only 54 calls.\n",
        "\n",
        "* Call Usage by City:\n",
        "\n",
        "   * San Francisco, California, has the highest call usage with 1655 calls, indicating a significant volume of calls in this city.\n",
        "   * Oakland, California, and San Jose, California, have similar call usage with 840 and 838 calls, respectively.\n",
        "   * The South region has the highest call usage, while San Francisco has the highest call usage among the cities. This suggests that San Francisco plays a significant role in driving the overall call usage in the South region.\n",
        "\n",
        "* The West region has substantial call usage, and it includes the city of San Francisco. This indicates that San Francisco has a notable impact on the call usage within the West region.\n",
        "\n",
        "* The call usage distribution across regions and cities highlights the variations in communication needs and patterns. Understanding these variations can help businesses allocate resources, optimize service quality, and cater to the specific requirements of customers in each region and city.\n",
        "\n",
        "* These insights can guide businesses in identifying areas of high call usage, optimizing service delivery, and tailoring their strategies to meet the communication demands of customers in different regions and cities."
      ],
      "metadata": {
        "id": "Qp13pnNzphqQ"
      }
    },
    {
      "cell_type": "markdown",
      "source": [
        "##### 3. Will the gained insights help creating a positive business impact?\n",
        "Are there any insights that lead to negative growth? Justify with specific reason."
      ],
      "metadata": {
        "id": "JMzcOPDDphqR"
      }
    },
    {
      "cell_type": "markdown",
      "source": [
        "**Posotive Impact**\n",
        "\n",
        "* Understanding call usage by region and city allows businesses to allocate resources strategically and enhance customer support where it is needed the most.\n",
        "* Targeting marketing efforts based on call usage data enables businesses to reach the right audience, resulting in increased customer acquisition and engagement.\n",
        "* Analyzing call usage patterns helps businesses identify areas for service optimization, leading to improved customer satisfaction and loyalty.\n",
        "* Promptly addressing customer needs and providing effective call support contributes to positive customer experiences and fosters long-term loyalty.\n",
        "* Utilizing insights from call usage data helps businesses gain a competitive advantage by offering superior customer service and support.\n",
        "* Optimizing operations based on call usage patterns increases efficiency, reduces costs, and improves overall business performance.\n",
        "* Personalizing communication and service offerings based on regional and city-specific call usage enhances customer relevance and engagement.\n",
        "* Targeted marketing and optimized services driven by call usage insights can result in increased sales and revenue growth.\n",
        "* Leveraging call usage data allows businesses to proactively identify and address customer pain points, improving the overall customer experience.\n",
        "* By continuously monitoring and analyzing call usage, businesses can identify trends, make data-driven decisions, and adapt their strategies to meet evolving customer needs.\n",
        "\n",
        "\n",
        "These insights enable businesses to make informed decisions, optimize resource allocation, enhance customer satisfaction, drive revenue growth, and differentiate themselves in the market, ultimately creating a positive business impact."
      ],
      "metadata": {
        "id": "R4Ka1PC2phqR"
      }
    },
    {
      "cell_type": "markdown",
      "source": [
        "#### Chart - 11"
      ],
      "metadata": {
        "id": "x-EpHcCOp1ci"
      }
    },
    {
      "cell_type": "code",
      "source": [
        "# Chart - 11 visualization code\n",
        "\n",
        "# Plot the histogram\n",
        "plt.figure(figsize=(10, 6))\n",
        "hist, bins, _ = plt.hist(df['Call duration day'], bins=10)\n",
        "plt.xlabel('Call Duration during the Day')\n",
        "plt.ylabel('Frequency')\n",
        "plt.title('Distribution of Call Durations during the Day')\n",
        "\n",
        "# Add data labels to the histogram bars\n",
        "for i in range(len(hist)):\n",
        "    plt.text(bins[i], hist[i], str(int(hist[i])), ha='center', va='bottom')\n",
        "\n",
        "plt.show()\n",
        "\n"
      ],
      "metadata": {
        "id": "mAQTIvtqp1cj"
      },
      "execution_count": null,
      "outputs": []
    },
    {
      "cell_type": "markdown",
      "source": [
        "##### 1. Why did you pick the specific chart?"
      ],
      "metadata": {
        "id": "X_VqEhTip1ck"
      }
    },
    {
      "cell_type": "markdown",
      "source": [
        "Answer Here."
      ],
      "metadata": {
        "id": "-vsMzt_np1ck"
      }
    },
    {
      "cell_type": "markdown",
      "source": [
        "##### 2. What is/are the insight(s) found from the chart?"
      ],
      "metadata": {
        "id": "8zGJKyg5p1ck"
      }
    },
    {
      "cell_type": "markdown",
      "source": [
        "Answer Here"
      ],
      "metadata": {
        "id": "ZYdMsrqVp1ck"
      }
    },
    {
      "cell_type": "markdown",
      "source": [
        "##### 3. Will the gained insights help creating a positive business impact?\n",
        "Are there any insights that lead to negative growth? Justify with specific reason."
      ],
      "metadata": {
        "id": "PVzmfK_Ep1ck"
      }
    },
    {
      "cell_type": "markdown",
      "source": [
        "Answer Here"
      ],
      "metadata": {
        "id": "druuKYZpp1ck"
      }
    },
    {
      "cell_type": "markdown",
      "source": [
        "#### Chart - 12"
      ],
      "metadata": {
        "id": "n3dbpmDWp1ck"
      }
    },
    {
      "cell_type": "code",
      "source": [
        "# Chart - 12 visualization code\n",
        "\n",
        "\n",
        "# Sort the DataFrame by 'Account Length' in descending order\n",
        "df_sorted = df.sort_values(by='Account length', ascending=False)\n",
        "\n",
        "# Select the top 5 rows\n",
        "top = df_sorted.head(3)\n",
        "\n",
        "# Define custom colors for the bars\n",
        "colors = ['#FF6F00', '#FFB300', '#FFD54F', '#FFEE58', '#FFF176']\n",
        "\n",
        "# Create the bar chart with data labels and custom colors\n",
        "ax = top.plot(x='City', y='Account length', kind='bar', color=colors)\n",
        "\n",
        "# Add data labels to the bars\n",
        "for i, v in enumerate(top['Account length']):\n",
        "    ax.text(i, v + 10, str(v), ha='center', va='bottom')\n",
        "\n",
        "# Add labels and title\n",
        "plt.xlabel('City')\n",
        "plt.ylabel('Account Length')\n",
        "plt.title('Top City by Account Length')\n",
        "\n",
        "# Display the chart\n",
        "plt.show()"
      ],
      "metadata": {
        "id": "bwevp1tKp1ck"
      },
      "execution_count": null,
      "outputs": []
    },
    {
      "cell_type": "markdown",
      "source": [
        "##### 1. Why did you pick the specific chart?"
      ],
      "metadata": {
        "id": "ylSl6qgtp1ck"
      }
    },
    {
      "cell_type": "markdown",
      "source": [
        "Answer Here."
      ],
      "metadata": {
        "id": "m2xqNkiQp1ck"
      }
    },
    {
      "cell_type": "markdown",
      "source": [
        "##### 2. What is/are the insight(s) found from the chart?"
      ],
      "metadata": {
        "id": "ZWILFDl5p1ck"
      }
    },
    {
      "cell_type": "markdown",
      "source": [
        "* Oakland has the highest account length with 243, indicating that customers in Oakland tend to have longer account durations compared to other cities in the dataset.\n",
        "\n",
        "* San Jose follows closely behind with an account length of 232, suggesting that customers in San Jose also have relatively longer account durations.\n",
        "\n",
        "* San Francisco has an account length of 225, which is slightly lower than Oakland and San Jose. This suggests that customers in San Francisco, while still having a substantial account length, may have slightly shorter durations on average compared to Oakland and San Jose.\n",
        "\n",
        "* The data shows a decreasing trend in account length from Oakland to San Francisco, indicating that customers in these cities may have varying engagement or loyalty levels with the service.\n",
        "\n",
        "* The top 5 cities listed have relatively high account lengths, indicating a strong customer base and potentially indicating a positive relationship between account length and customer satisfaction or loyalty within these cities."
      ],
      "metadata": {
        "id": "x-lUsV2mp1ck"
      }
    },
    {
      "cell_type": "markdown",
      "source": [
        "##### 3. Will the gained insights help creating a positive business impact?\n",
        "Are there any insights that lead to negative growth? Justify with specific reason."
      ],
      "metadata": {
        "id": "M7G43BXep1ck"
      }
    },
    {
      "cell_type": "markdown",
      "source": [
        "**Positive Impact**\n",
        "\n",
        "* Strategic Decision Making: Understanding the cities with higher account lengths allows businesses to make informed strategic decisions regarding resource allocation, marketing campaigns, and customer retention strategies.\n",
        "\n",
        "* Customer Segmentation: Businesses can segment their customer base based on cities and account lengths to tailor their products, services, and marketing efforts to better meet the needs and preferences of customers in each city.\n",
        "\n",
        "* Customer Engagement: By analyzing the account lengths in different cities, businesses can identify patterns and trends that may help improve customer engagement strategies. This can lead to increased customer satisfaction and loyalty.\n",
        "\n",
        "* Competitive Advantage: Having insights into cities with longer account lengths can give businesses a competitive advantage. They can focus on strengthening their presence and market share in those cities to establish a strong customer base and outperform competitors.\n",
        "\n",
        "* Business Growth Opportunities: Recognizing the cities with high account lengths can help identify potential areas for expansion or targeting new markets. Businesses can allocate resources to penetrate these markets and capitalize on the existing customer base and demand.\n",
        "\n",
        "* By leveraging these insights, businesses can make more informed decisions, enhance customer satisfaction, optimize marketing efforts, and ultimately drive positive business outcomes and growth."
      ],
      "metadata": {
        "id": "5wwDJXsLp1cl"
      }
    },
    {
      "cell_type": "markdown",
      "source": [
        "#### Chart - 13"
      ],
      "metadata": {
        "id": "Ag9LCva-p1cl"
      }
    },
    {
      "cell_type": "code",
      "source": [
        "# Chart - 13 visualization code\n",
        "\n",
        "import pandas as pd\n",
        "import matplotlib.pyplot as plt\n",
        "\n",
        "# Assuming your DataFrame is called 'df' with columns 'State' and 'International Plan'\n",
        "\n",
        "# Calculate the count of customers with international plan by state\n",
        "data = df[df['International plan'] == 'Yes']['State'].value_counts().head(10)\n",
        "\n",
        "# Define custom colors for the bars\n",
        "colors = ['#FF6F00', '#FFB300', '#FFD54F', '#FFEE58', '#FFF176', '#DCE775', '#C0CA33', '#AFB42B', '#9E9D24', '#827717']\n",
        "\n",
        "# Create the bar chart with custom colors\n",
        "ax = data.plot(kind='bar', color=colors)\n",
        "\n",
        "\n",
        "# Add labels and title\n",
        "plt.xlabel('State')\n",
        "plt.ylabel('Number of Customers')\n",
        "plt.title('Top 10 States with International Plan')\n",
        "\n",
        "# Display the chart\n",
        "plt.show()\n",
        "\n"
      ],
      "metadata": {
        "id": "EUfxeq9-p1cl"
      },
      "execution_count": null,
      "outputs": []
    },
    {
      "cell_type": "markdown",
      "source": [
        "##### 1. Why did you pick the specific chart?"
      ],
      "metadata": {
        "id": "E6MkPsBcp1cl"
      }
    },
    {
      "cell_type": "markdown",
      "source": [
        "Answer Here."
      ],
      "metadata": {
        "id": "V22bRsFWp1cl"
      }
    },
    {
      "cell_type": "markdown",
      "source": [
        "##### 2. What is/are the insight(s) found from the chart?"
      ],
      "metadata": {
        "id": "2cELzS2fp1cl"
      }
    },
    {
      "cell_type": "markdown",
      "source": [
        "* Illinois (IL) ranks first in terms of the number of customers with international plans, indicating a strong demand or preference for international connectivity within the state.\n",
        "\n",
        "* The Netherlands (NL) follows as the second-highest state, suggesting a significant presence of customers with international plans and potentially highlighting the importance of international connections for individuals or businesses with ties to the Netherlands.\n",
        "\n",
        "* Germany (DE) ranks third in terms of the number of customers with international plans, indicating a notable demand for international connectivity among individuals or businesses with connections to Germany.\n",
        "\n",
        "* Rhode Island (RI) is the fourth-highest state, suggesting a relatively high proportion of customers with international plans within the state.\n",
        "\n",
        "* Maryland (MD) occupies the fifth position, indicating a significant number of customers who opt for international plans in the state.\n",
        "\n",
        "These insights provide a glimpse into the top 10 states with the highest usage of international plans, highlighting the potential market demand for international connectivity and the preferences of customers within these states."
      ],
      "metadata": {
        "id": "ozQPc2_Ip1cl"
      }
    },
    {
      "cell_type": "markdown",
      "source": [
        "##### 3. Will the gained insights help creating a positive business impact?\n",
        "Are there any insights that lead to negative growth? Justify with specific reason."
      ],
      "metadata": {
        "id": "3MPXvC8up1cl"
      }
    },
    {
      "cell_type": "markdown",
      "source": [
        "**Positive Impact**\n",
        "\n",
        "* Targeted Marketing: By identifying the top states with a high number of customers using international plans, businesses can focus their marketing efforts on these regions to attract and retain customers interested in international connectivity.\n",
        "\n",
        "* Service Customization: Businesses can tailor their services and offerings to cater to the specific needs and preferences of customers in these states, such as providing competitive international calling rates, data roaming packages, or specialized customer support.\n",
        "\n",
        "* Revenue Growth: The insights help businesses allocate resources effectively by prioritizing states with a higher demand for international plans. This targeted approach can lead to increased sales and revenue from customers seeking international connectivity services.\n",
        "\n",
        "* Competitive Advantage: By understanding which states have a significant number of customers using international plans, businesses can differentiate themselves from competitors by offering superior international calling rates, data packages, or exclusive partnerships with international service providers.\n",
        "\n",
        "*  Customer Satisfaction and Retention: Addressing the needs of customers in these top states can lead to higher customer satisfaction and loyalty, as businesses can proactively meet their demands for international connectivity. Satisfied customers are more likely to continue using the service and recommend it to others, fostering positive word-of-mouth and enhancing customer retention rates.\n",
        "\n",
        "* By leveraging these insights to tailor marketing strategies, customize services, and prioritize resources, businesses can enhance their market position, drive customer satisfaction, and ultimately achieve positive business impact and growth."
      ],
      "metadata": {
        "id": "GL8l1tdLp1cl"
      }
    },
    {
      "cell_type": "markdown",
      "source": [
        "#### Chart - 14 - Correlation Heatmap"
      ],
      "metadata": {
        "id": "NC_X3p0fY2L0"
      }
    },
    {
      "cell_type": "code",
      "source": [
        "# Correlation Heatmap visualization code\n",
        "# correlation heatmap\n",
        "columns_for_heatmap = ['Total day charge', 'Total night charge', 'Total eve charge',\n",
        "                       'Total intl charge']\n",
        "\n",
        "# correlation matrix\n",
        "corr_matrix = df[columns_for_heatmap].corr()\n",
        "print(corr_matrix)\n",
        "\n",
        "# Create a heatmap\n",
        "plt.figure(figsize=(10, 8))\n",
        "sns.heatmap(corr_matrix, annot=True, cmap='coolwarm', square=True)\n",
        "plt.title('Correlation Calls Charges for each time category')\n",
        "plt.show()"
      ],
      "metadata": {
        "id": "xyC9zolEZNRQ"
      },
      "execution_count": null,
      "outputs": []
    },
    {
      "cell_type": "code",
      "source": [
        "# correlation heatmap\n",
        "columns_for_heatmap = ['Total day minutes', 'Total night minutes', 'Total eve minutes',\n",
        "                       'Total intl minutes']\n",
        "\n",
        "# correlation matrix\n",
        "corr_matrix = df[columns_for_heatmap].corr()\n",
        "print(corr_matrix)\n",
        "\n",
        "# Create a heatmap\n",
        "plt.figure(figsize=(10, 8))\n",
        "sns.heatmap(corr_matrix, annot=True, cmap='coolwarm', square=True)\n",
        "plt.title('Correlation Calls minutes for each time category')\n",
        "plt.show()"
      ],
      "metadata": {
        "id": "Wwpmc79pyWy9"
      },
      "execution_count": null,
      "outputs": []
    },
    {
      "cell_type": "markdown",
      "source": [
        "##### 1. Why did you pick the specific chart?"
      ],
      "metadata": {
        "id": "UV0SzAkaZNRQ"
      }
    },
    {
      "cell_type": "markdown",
      "source": [
        "* Visual Clarity: A heatmap uses color gradients to represent the strength and direction of correlations, making it easier to identify patterns and relationships among multiple variables. The use of colors allows for quick and efficient interpretation of the correlation matrix.\n",
        "\n",
        "* Efficient Comparison: With a heatmap, you can visually compare the strength of correlations between different pairs of variables simultaneously. The diagonal line in the heatmap represents perfect correlation (1.0), providing a quick reference for the highest correlation values.\n",
        "\n",
        "* Highlighting Relationships: By using a color spectrum, the heatmap can highlight strong positive or negative correlations, helping to identify variables that are strongly associated with each other or those that exhibit no significant relationship.\n",
        "\n",
        "* Handling Large Datasets: Heatmaps handle large correlation matrices well, providing an effective way to visualize and analyze relationships among multiple variables in a compact and concise format.\n",
        "\n",
        "* Data Exploration: Heatmaps enable data exploration by highlighting potential areas of interest or further investigation. They help to identify clusters of variables that are highly correlated or reveal unexpected relationships between variables."
      ],
      "metadata": {
        "id": "DVPuT8LYZNRQ"
      }
    },
    {
      "cell_type": "markdown",
      "source": [
        "##### 2. What is/are the insight(s) found from the chart?"
      ],
      "metadata": {
        "id": "YPEH6qLeZNRQ"
      }
    },
    {
      "cell_type": "markdown",
      "source": [
        "* There is a weak positive correlation (0.004301) between the total day charge and the total night charge, indicating that as the total day charge increases, there is a slight tendency for the total night charge to increase as well.\n",
        "\n",
        "* The correlation between the total day charge and the total eve charge is also weak (0.007036), suggesting a minimal relationship between these two variables.\n",
        "\n",
        "* There is a weak negative correlation (-0.010094) between the total day charge and the total international charge, indicating that as the total day charge increases, there is a slight tendency for the total international charge to decrease.\n",
        "\n",
        "* The total night charge and the total international charge have a weak negative correlation (-0.015186), suggesting that as the total night charge increases, there is a slight tendency for the total international charge to decrease as well.\n",
        "\n",
        "* The total eve charge and the total international charge have a weak negative correlation (-0.011074), implying that as the total eve charge increases, there is a slight tendency for the total international charge to decrease.\n",
        "\n",
        "*  The correlation coefficients are all relatively close to zero, indicating that the variables have weak linear relationships with each other.\n",
        "\n",
        "* The weak correlations suggest that the variables, such as the total day charge, total night charge, total eve charge, and total international charge, are not strongly dependent on each other.\n",
        "\n",
        "* It is important to note that correlation does not imply causation, and other factors or variables may influence the relationships between these charges.\n",
        "\n",
        "* Further analysis, such as regression or additional statistical tests, may be necessary to understand the relationships between these charges more comprehensively.\n",
        "\n",
        "* The weak correlations imply that the different charge components (day, night, eve, and international) may be influenced by independent factors, and their individual impacts on the overall charges should be considered separately.\n",
        "\n",
        "* These insights provide an understanding of the weak correlations between the various charge components, indicating that changes in one charge component may have a minimal influence on the others."
      ],
      "metadata": {
        "id": "bfSqtnDqZNRR"
      }
    },
    {
      "cell_type": "markdown",
      "source": [
        "#### Chart - 15 - Pair Plot"
      ],
      "metadata": {
        "id": "q29F0dvdveiT"
      }
    },
    {
      "cell_type": "code",
      "source": [
        "# Pair Plot visualization code\n",
        "import seaborn as sns\n",
        "import matplotlib.pyplot as plt\n",
        "\n",
        "# Select the desired columns from your DataFrame\n",
        "columns = ['Total day minutes', 'Total night minutes', 'Total day charge', 'Total night charge']\n",
        "data = df[columns]\n",
        "\n",
        "# Create the pair plot\n",
        "sns.pairplot(data)\n",
        "plt.show()\n",
        "\n"
      ],
      "metadata": {
        "id": "o58-TEIhveiU"
      },
      "execution_count": null,
      "outputs": []
    },
    {
      "cell_type": "markdown",
      "source": [
        "##### 1. Why did you pick the specific chart?"
      ],
      "metadata": {
        "id": "EXh0U9oCveiU"
      }
    },
    {
      "cell_type": "markdown",
      "source": [
        "1. Relationship Identification: A pair plot allows us to visually identify relationships between variables. By examining the scatter plots, we can determine whether variables exhibit positive, negative, or no significant relationships.\n",
        "\n",
        "2. Correlation Assessment: The pair plot provides an overview of the correlations between variables. We can examine the diagonal plots to understand the distribution and shape of each variable and the scatter plots to identify the strength and direction of correlations.\n",
        "\n",
        "3. Outlier Detection: Outliers can be visually detected in the scatter plots, appearing as data points that deviate significantly from the general trend.\n",
        "\n",
        "4. Variable Distributions: The diagonal plots in the pair plot display the distribution of each variable individually. This allows us to examine the skewness, kurtosis, and overall shape of the data, which can be useful in understanding the characteristics of the variables.\n",
        "\n",
        "5. Clustering or Grouping: Pair plots can reveal clustering or grouping patterns among variables. By examining the scatter plots, we can identify clusters or patterns that suggest subsets of variables that have similar relationships, potentially indicating subgroups or distinct patterns within the data.\n",
        "\n",
        "Overall, pair plots provide a rich visual representation of the relationships, correlations, distributions, outliers, and potential groupings among variables. These insights help in gaining a deeper understanding of the data and identifying potential areas for further analysis and investigation."
      ],
      "metadata": {
        "id": "eMmPjTByveiU"
      }
    },
    {
      "cell_type": "markdown",
      "source": [
        "##### 2. What is/are the insight(s) found from the chart?"
      ],
      "metadata": {
        "id": "22aHeOlLveiV"
      }
    },
    {
      "cell_type": "markdown",
      "source": [
        "* There is a positive correlation between \"Total day minutes\" and \"Total day charge,\" indicating that as the number of minutes spent on daytime calls increases, the corresponding charge also tends to increase.\n",
        "\n",
        "* Similarly, there is a positive correlation between \"Total night minutes\" and \"Total night charge,\" suggesting that higher usage during nighttime leads to higher charges.\n",
        "\n",
        "* The \"Total day minutes\" and \"Total night minutes\" do not exhibit a strong linear relationship, as there is no clear pattern or trend between them.\n",
        "\n",
        "* The charges for both day and night calls have a positive correlation with their respective minutes, indicating that longer calls generally result in higher charges.\n",
        "\n",
        "* The charges for both day and night calls are relatively higher compared to the minutes spent, suggesting that additional factors, such as service fees or surcharges, contribute to the overall charges.\n",
        "\n",
        "* The spread of \"Total day minutes\" and \"Total day charge\" appears wider than that of \"Total night minutes\" and \"Total night charge,\" suggesting higher variability in daytime usage and charges.\n",
        "\n",
        "* The charges for both day and night calls exhibit a skewed distribution, with some outliers on the higher end, indicating a small portion of customers who incur significantly higher charges.\n",
        "\n",
        "* There is no strong linear relationship between the charges and minutes for either day or night calls, suggesting that other factors, such as calling plans or additional services, may influence the charges apart from just the duration of calls.\n",
        "\n",
        "* The average charges for both day and night calls seem to be in the mid-range, indicating a relatively balanced distribution of charges across customers.\n",
        "\n",
        "* Further analysis, such as examining the relationship between charges and other variables, can provide deeper insights into the factors driving the charges and help optimize pricing strategies or service offerings.\n",
        "\n",
        "* These insights provide an overview of the relationships and distribution patterns observed from the pair plot data. Additional analysis and domain knowledge can further enhance the understanding of the underlying factors influencing the charges and minutes for day and night calls."
      ],
      "metadata": {
        "id": "uPQ8RGwHveiV"
      }
    },
    {
      "cell_type": "markdown",
      "source": [
        "## **5. Solution to Business Objective**"
      ],
      "metadata": {
        "id": "JcMwzZxoAimU"
      }
    },
    {
      "cell_type": "markdown",
      "source": [
        "# What do you suggest the client to achieve Business Objective ?`\n",
        "Explain Briefly."
      ],
      "metadata": {
        "id": "8G2x9gOozGDZ"
      }
    },
    {
      "cell_type": "markdown",
      "source": [
        " * Reduce Churn Rate: Since the North East region has the highest churn rate, the client should focus on implementing retention strategies specific to that region. This could include offering personalized promotions, improving customer service, and addressing any issues specific to the region that may be causing customers to churn.\n",
        "\n",
        "* Enhance Customer Service: Analyzing the average customer service calls by city reveals variations in customer needs and expectations. The client should ensure that their customer service teams in Auckland, San Francisco, and San Jose are well-trained and equipped to handle customer inquiries and concerns promptly and effectively. This will help improve customer satisfaction and reduce the number of service-related issues.\n",
        "\n",
        "* Optimize Pricing and Charging Strategies: The data indicates variations in total charges by region and city. The client should analyze pricing structures and charging patterns to ensure competitiveness and profitability. They can consider offering targeted promotions or discounts in regions or cities with lower charge volumes to incentivize customer spending.\n",
        "\n",
        "* Tailor Plans and Services: Understanding the distribution of plan types and customer preferences can help the client refine their offerings. They should assess the popularity of international plans in San Jose, San Francisco, and Oakland to determine if expanding or modifying international calling features or plans would benefit their customer base.\n",
        "\n",
        "* Improve Call Duration and Usage: Analyzing the average call duration by time of day reveals that most calls occur during the evening, followed by nighttime and daytime. The client can leverage this information to optimize their call plans, packages, and pricing structures, encouraging more usage during peak hours and potentially offering discounted rates during off-peak hours.\n",
        "\n",
        "* Retain and Upsell International Plan Customers: With 91.5% of customers in San Jose having international plans, the client should focus on customer retention and upselling efforts in this region. Providing excellent customer service, offering additional international calling features, and targeted promotions can help retain existing international plan customers and attract new ones.\n",
        "\n",
        "* Targeted Marketing and Retention Efforts: The data suggests variations in customer behavior and preferences across regions and cities. The client should use this information to tailor their marketing campaigns and retention efforts. By understanding the needs and preferences of customers in different areas, they can develop targeted strategies to increase customer acquisition and loyalty.\n",
        "\n",
        "* Account Length Analysis: Analyzing the top 10 cities by account length can provide insights into customer loyalty and retention. The client should identify factors contributing to longer account lengths in these cities and replicate successful practices in other regions. This could involve offering exclusive benefits or rewards for long-term customers, ensuring their satisfaction, and building strong relationships."
      ],
      "metadata": {
        "id": "pASKb0qOza21"
      }
    },
    {
      "cell_type": "markdown",
      "source": [
        "# **Conclusion**"
      ],
      "metadata": {
        "id": "gCX9965dhzqZ"
      }
    },
    {
      "cell_type": "markdown",
      "source": [
        "Firstly, addressing the high churn rate in the North East region should be a priority. Implementing targeted retention strategies, such as personalized promotions and improved customer service, can help reduce customer attrition and increase loyalty in this region.\n",
        "\n",
        "Enhancing customer service across different cities, such as Auckland, San Francisco, and San Jose, is crucial. Well-trained and responsive customer service teams can positively impact customer satisfaction and loyalty.\n",
        "\n",
        "Optimizing pricing and charging strategies based on regional and city-specific patterns can improve competitiveness and profitability. The client should evaluate pricing structures and consider targeted promotions to encourage customer spending in regions or cities with lower charge volumes.\n",
        "\n",
        "Understanding customer preferences for international plans and tailoring offerings accordingly is essential. Expanding international calling features and plans, particularly in regions like San Jose, San Francisco, and Oakland, can attract and retain international plan customers.\n",
        "\n",
        "Leveraging insights on call duration and usage by time of day, the client can optimize call plans and packages to encourage usage during peak hours and potentially offer incentives during off-peak hours.\n",
        "\n",
        "Targeted marketing and retention efforts based on regional and city-specific behaviors and preferences can improve customer acquisition and loyalty. By tailoring campaigns to specific areas, the client can better connect with their target audience and drive customer engagement.\n",
        "\n",
        "Additionally, analyzing account length in the top cities can provide valuable insights into factors contributing to customer loyalty. The client should identify successful practices in these cities and replicate them in other regions to promote longer account lengths and strengthen customer relationships.\n",
        "\n",
        "Overall, a comprehensive strategy encompassing customer retention, personalized marketing, optimized pricing, and enhanced customer service will be instrumental in achieving the client's business objectives. Continuous monitoring, analysis, and adaptation based on market conditions and customer feedback will further enhance the effectiveness of these strategies."
      ],
      "metadata": {
        "id": "Fjb1IsQkh3yE"
      }
    },
    {
      "cell_type": "markdown",
      "source": [
        "### ***Hurrah! You have successfully completed your EDA Capstone Project !!!***"
      ],
      "metadata": {
        "id": "gIfDvo9L0UH2"
      }
    }
  ]
}